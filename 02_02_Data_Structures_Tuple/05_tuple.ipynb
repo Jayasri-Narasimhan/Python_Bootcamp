{
 "cells": [
  {
   "cell_type": "markdown",
   "id": "5ec0dde1",
   "metadata": {},
   "source": [
    "# Tuples\n",
    "\n",
    "1) Tuples are ordered sequence of mixed data types.\n",
    "2) Tuples are written as comma-seperated elements within paranthesis.\n",
    "3) Tuples are ordered sequences, which means the order in which the elements are inserted remains the same. This makes them flexible for indexing and slicing just like strings.\n",
    "\n",
    "> In indexing of strings, each character is assigned an index; similarly, each element is given an index here. Using slicing, you were able to obtain substrings of the data; here, you will be able to obtain a subset of elements. "
   ]
  },
  {
   "cell_type": "markdown",
   "id": "205a1be6",
   "metadata": {},
   "source": [
    "### Creating a tuple"
   ]
  },
  {
   "cell_type": "code",
   "execution_count": 1,
   "id": "e0f48d9f",
   "metadata": {},
   "outputs": [
    {
     "name": "stdout",
     "output_type": "stream",
     "text": [
      "('string', 3, 5.789, True)\n",
      "<class 'tuple'>\n"
     ]
    }
   ],
   "source": [
    "t=(\"string\",3,5.789,True)\n",
    "print(t)\n",
    "print(type(t))"
   ]
  },
  {
   "cell_type": "markdown",
   "id": "12c7b4ac",
   "metadata": {},
   "source": [
    "### Tuple can be defined in various ways."
   ]
  },
  {
   "cell_type": "code",
   "execution_count": 3,
   "id": "142e7763",
   "metadata": {},
   "outputs": [
    {
     "name": "stdout",
     "output_type": "stream",
     "text": [
      "(1, 2, 3, 4)\n",
      "<class 'tuple'>\n"
     ]
    }
   ],
   "source": [
    "#Tuple can be defined without a paranthesis\n",
    "t_1=1,2,3,4\n",
    "print(t_1)\n",
    "print(type(t_1))"
   ]
  },
  {
   "cell_type": "markdown",
   "id": "85d50229",
   "metadata": {},
   "source": [
    "### Single valued tuple \n",
    "Should always be defined with comma."
   ]
  },
  {
   "cell_type": "code",
   "execution_count": 4,
   "id": "27cad3c0",
   "metadata": {},
   "outputs": [
    {
     "name": "stdout",
     "output_type": "stream",
     "text": [
      "(1,)\n"
     ]
    }
   ],
   "source": [
    "t_2=1,\n",
    "print(t_2)"
   ]
  },
  {
   "cell_type": "code",
   "execution_count": 5,
   "id": "c33cca5a",
   "metadata": {},
   "outputs": [
    {
     "name": "stdout",
     "output_type": "stream",
     "text": [
      "(1,)\n"
     ]
    }
   ],
   "source": [
    "t_2=(1,)\n",
    "print(t_2)"
   ]
  },
  {
   "cell_type": "markdown",
   "id": "f0a87137",
   "metadata": {},
   "source": [
    "### index"
   ]
  },
  {
   "cell_type": "code",
   "execution_count": 8,
   "id": "f92fe014",
   "metadata": {},
   "outputs": [
    {
     "name": "stdout",
     "output_type": "stream",
     "text": [
      "87\n",
      "x\n"
     ]
    }
   ],
   "source": [
    "tuple_1=(2.3, 5, 87, 'x', 65)\n",
    "print(tuple_1[2])\n",
    "print(tuple_1[-2])"
   ]
  },
  {
   "cell_type": "markdown",
   "id": "5eb14894",
   "metadata": {},
   "source": [
    "### Slicing [start :end : step]"
   ]
  },
  {
   "cell_type": "code",
   "execution_count": 9,
   "id": "80a17b84",
   "metadata": {},
   "outputs": [
    {
     "name": "stdout",
     "output_type": "stream",
     "text": [
      "(87, 'x', 65)\n"
     ]
    }
   ],
   "source": [
    "tuple_1=(2.3, 5, 87, 'x', 65)\n",
    "print(tuple_1[2:])"
   ]
  },
  {
   "cell_type": "markdown",
   "id": "5d78243e",
   "metadata": {},
   "source": [
    "### sum(), min(), max()"
   ]
  },
  {
   "cell_type": "code",
   "execution_count": 12,
   "id": "ba68caf5",
   "metadata": {},
   "outputs": [
    {
     "name": "stdout",
     "output_type": "stream",
     "text": [
      "159.3\n",
      "2.3\n",
      "87\n"
     ]
    }
   ],
   "source": [
    "tuple_1=(2.3, 5, 87, 65)\n",
    "print(sum(tuple_1))\n",
    "print(min(tuple_1))\n",
    "print(max(tuple_1))"
   ]
  },
  {
   "cell_type": "markdown",
   "id": "6c7477c1",
   "metadata": {},
   "source": [
    "### Sorting a tuple"
   ]
  },
  {
   "cell_type": "code",
   "execution_count": 17,
   "id": "e057b977",
   "metadata": {},
   "outputs": [
    {
     "name": "stdout",
     "output_type": "stream",
     "text": [
      "[2.3, 5, 65, 87, 100, 1000]\n",
      "(2.3, 5, 65, 87, 100, 1000)\n"
     ]
    }
   ],
   "source": [
    "tuple_1=(2.3,5,87,1000,100,65)\n",
    "print(sorted(tuple_1))\n",
    "#returns list so using typecast\n",
    "print(tuple(sorted(tuple_1)))"
   ]
  },
  {
   "cell_type": "markdown",
   "id": "d65fd432",
   "metadata": {},
   "source": [
    "### Nested Tuple\n",
    "Contains a tuple as one of its element."
   ]
  },
  {
   "cell_type": "code",
   "execution_count": 15,
   "id": "6e58d944",
   "metadata": {},
   "outputs": [
    {
     "name": "stdout",
     "output_type": "stream",
     "text": [
      "<class 'tuple'>\n"
     ]
    }
   ],
   "source": [
    "tuple_2=(2.3,5,87,1000,(\"string\",3,5.789,True),100,65)\n",
    "print(type(tuple_2[4]))"
   ]
  },
  {
   "cell_type": "markdown",
   "id": "eaa26a9b",
   "metadata": {},
   "source": [
    "### Membership in Tuple"
   ]
  },
  {
   "cell_type": "code",
   "execution_count": 25,
   "id": "4295d5ba",
   "metadata": {},
   "outputs": [
    {
     "name": "stdout",
     "output_type": "stream",
     "text": [
      "True\n",
      "False\n"
     ]
    }
   ],
   "source": [
    "tuple_2=(2.3,5,87,1000,(\"string\",3,5.789,True),100,65)\n",
    "print(5 in tuple_2)\n",
    "print(6 in tuple_2)"
   ]
  },
  {
   "cell_type": "markdown",
   "id": "1fdc11c1",
   "metadata": {},
   "source": [
    "### Immutability of Tuples"
   ]
  },
  {
   "cell_type": "code",
   "execution_count": 18,
   "id": "159f40b3",
   "metadata": {},
   "outputs": [
    {
     "ename": "TypeError",
     "evalue": "'tuple' object does not support item assignment",
     "output_type": "error",
     "traceback": [
      "\u001b[1;31m---------------------------------------------------------------------------\u001b[0m",
      "\u001b[1;31mTypeError\u001b[0m                                 Traceback (most recent call last)",
      "Cell \u001b[1;32mIn[18], line 2\u001b[0m\n\u001b[0;32m      1\u001b[0m tuple_1\u001b[38;5;241m=\u001b[39m(\u001b[38;5;241m2.3\u001b[39m,\u001b[38;5;241m5\u001b[39m,\u001b[38;5;241m87\u001b[39m,\u001b[38;5;241m1000\u001b[39m,\u001b[38;5;241m100\u001b[39m,\u001b[38;5;241m65\u001b[39m)\n\u001b[1;32m----> 2\u001b[0m tuple_1[\u001b[38;5;241m3\u001b[39m]\u001b[38;5;241m=\u001b[39m\u001b[38;5;124m'\u001b[39m\u001b[38;5;124mHi\u001b[39m\u001b[38;5;124m'\u001b[39m\n\u001b[0;32m      3\u001b[0m \u001b[38;5;28mprint\u001b[39m(tuple_1)\n",
      "\u001b[1;31mTypeError\u001b[0m: 'tuple' object does not support item assignment"
     ]
    }
   ],
   "source": [
    "tuple_1=(2.3,5,87,1000,100,65)\n",
    "tuple_1[3]='Hi'\n",
    "print(tuple_1)\n",
    "#The element in index 3 doesn't change.\n"
   ]
  },
  {
   "cell_type": "markdown",
   "id": "85e4fe87",
   "metadata": {},
   "source": [
    "### To add an element into the tuple or extend the tuple , just CONCATENATE\n"
   ]
  },
  {
   "cell_type": "code",
   "execution_count": 22,
   "id": "a657c106",
   "metadata": {},
   "outputs": [
    {
     "name": "stdout",
     "output_type": "stream",
     "text": [
      "(2.3, 5, 87, 1000, 'hello', 100, 65)\n"
     ]
    }
   ],
   "source": [
    "tuple_1=(2.3,5,87,1000,100,65)\n",
    "tuple_2=tuple_1[0:4]+(\"hello\",)+tuple_1[4:]\n",
    "print(tuple_2)"
   ]
  },
  {
   "cell_type": "code",
   "execution_count": 26,
   "id": "8456c1c4",
   "metadata": {},
   "outputs": [
    {
     "name": "stdout",
     "output_type": "stream",
     "text": [
      "('Monty Python', 'British', 1969, 'Python')\n"
     ]
    }
   ],
   "source": [
    "input_tuple=('Monty Python', 'British', 1969)\n",
    "input_tuple1=list(input_tuple)+['Python']\n",
    "print(tuple(input_tuple1))"
   ]
  },
  {
   "cell_type": "markdown",
   "id": "78241c43",
   "metadata": {},
   "source": [
    "## Advantages of Tuple over List in Python\n",
    ">Since tuples are quite similar to lists, both of them are used in similar situations.\n",
    "\n",
    "#### However, there are certain advantages of implementing a tuple over a list:\n",
    "\n",
    "1) We generally use tuples for heterogeneous (different) data types and lists for homogeneous (similar) data types.\n",
    "2) Since tuples are immutable, iterating through a tuple is faster than with a list. So there is a slight performance boost.\n",
    "3) Tuples that contain immutable elements can be used as a key for a dictionary. \n",
    "4) With lists, this is not possible.\n",
    "5) If you have data that doesn't change, implementing it as tuple will guarantee that it remains write-protected."
   ]
  },
  {
   "cell_type": "code",
   "execution_count": null,
   "id": "e87b168e",
   "metadata": {},
   "outputs": [],
   "source": []
  }
 ],
 "metadata": {
  "kernelspec": {
   "display_name": "Python 3 (ipykernel)",
   "language": "python",
   "name": "python3"
  },
  "language_info": {
   "codemirror_mode": {
    "name": "ipython",
    "version": 3
   },
   "file_extension": ".py",
   "mimetype": "text/x-python",
   "name": "python",
   "nbconvert_exporter": "python",
   "pygments_lexer": "ipython3",
   "version": "3.10.9"
  }
 },
 "nbformat": 4,
 "nbformat_minor": 5
}
