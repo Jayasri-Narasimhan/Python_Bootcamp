{
 "cells": [
  {
   "cell_type": "markdown",
   "id": "fa70187e",
   "metadata": {},
   "source": [
    "# Dictionary\n",
    ">The first thing that comes to mind when you hear about dictionaries is the Oxford Dictionary where you can look up the meanings of words. So, you can imagine how dictionaries work.\n",
    "\n",
    ">A dictionary is a collection of words along with their definitions or explanations.\n",
    "\n",
    " \n",
    "\n",
    ">At a broader level, you could describe a dictionary as a mapping of words with their synonyms or meanings.\n",
    ">Let's learn about Python dictionaries in detail.\n",
    "\n"
   ]
  },
  {
   "cell_type": "code",
   "execution_count": 11,
   "id": "1b3f009c",
   "metadata": {},
   "outputs": [
    {
     "name": "stdout",
     "output_type": "stream",
     "text": [
      "[]\n",
      "()\n",
      "datatype of set_a: <class 'set'>  ;;; empty set : set()  ;;; length of set_a : 0\n",
      "{}\n"
     ]
    }
   ],
   "source": [
    "#creating empty template of all data structures\n",
    "list_a=[]\n",
    "tuple_a=()\n",
    "set_a=set({})\n",
    "dict_A={}\n",
    "\n",
    "print(list_a)\n",
    "print(tuple_a)\n",
    "print('datatype of set_a:', type(set_a), ' ;;; empty set :', set_a, ' ;;; length of set_a :',len(set_a))\n",
    "print(dict_A)\n"
   ]
  },
  {
   "cell_type": "markdown",
   "id": "f2aa9e7d",
   "metadata": {},
   "source": [
    "## Dictionary : Introduction\n",
    "Dictionaries are used to store data values in key:value pairs.\n",
    "\n",
    "A dictionary is a collection which is ordered*, changeable and do not allow duplicates."
   ]
  },
  {
   "cell_type": "code",
   "execution_count": 18,
   "id": "8f8c5636",
   "metadata": {},
   "outputs": [
    {
     "name": "stdout",
     "output_type": "stream",
     "text": [
      "Empty dictionary : {}\n",
      "Datatype of dict_A : <class 'dict'>\n",
      "lenth of dict_A = 0\n"
     ]
    }
   ],
   "source": [
    "dict_A={}\n",
    "print(\"Empty dictionary :\", dict_A)\n",
    "print(\"Datatype of dict_A :\", type(dict_A))\n",
    "print('lenth of dict_A =', len(dict_A))"
   ]
  },
  {
   "cell_type": "markdown",
   "id": "cf6f1ada",
   "metadata": {},
   "source": [
    "### 1) index "
   ]
  },
  {
   "cell_type": "code",
   "execution_count": 39,
   "id": "92fdff4b",
   "metadata": {},
   "outputs": [
    {
     "name": "stdout",
     "output_type": "stream",
     "text": [
      "{'students/subject': ['Maths', 'Physics', 'chem'], 'A': ['50', '40', '30'], 'B': ['30', '20', '40'], 'C': ['90', '50', '70']}\n",
      "['90', '50', '70']\n",
      "datatype of value of Key A: <class 'list'>\n",
      "Mark of student A in chemistry: 30\n"
     ]
    }
   ],
   "source": [
    "dict_b={\"students/subject\":[\"Maths\",\"Physics\",\"chem\"],\n",
    "        \"A\":[\"50\",\"40\",\"30\"],\n",
    "        \"B\":[\"30\",\"20\",\"40\"],\n",
    "        \"C\":[\"90\",\"50\",\"70\"]}\n",
    "print(dict_b)\n",
    "print(dict_b[\"C\"])\n",
    "#To print the mark of \"A\" in Chemistry\n",
    "print('datatype of value of Key A:', type(dict_b[\"A\"]))    #find the datatype of value of \"A\"\n",
    "marks_in_A=dict_b[\"A\"]     #store value of \"A\" in a new variable # here Value of Key A is List datatype.\n",
    "print('Mark of student A in chemistry:', marks_in_A[2]) #Thus, print the element of list using index"
   ]
  },
  {
   "cell_type": "code",
   "execution_count": 36,
   "id": "cc8b42e5",
   "metadata": {},
   "outputs": [
    {
     "name": "stdout",
     "output_type": "stream",
     "text": [
      "Mark of student A in chemistry: 30\n"
     ]
    }
   ],
   "source": [
    "dict_b={\"students/subject\":[\"Maths\",\"Physics\",\"chem\"],\n",
    "        \"A\":[\"50\",\"40\",\"30\"],\n",
    "        \"B\":[\"30\",\"20\",\"40\"],\n",
    "        \"C\":[\"90\",\"50\",\"70\"]}\n",
    "print('Mark of student A in chemistry:',dict_b[\"A\"][2])"
   ]
  },
  {
   "cell_type": "markdown",
   "id": "11066e33",
   "metadata": {},
   "source": [
    "### 2.1) del(dict_name[\"Key\"])\n",
    "deletes the Key:Value pair at a given Key."
   ]
  },
  {
   "cell_type": "code",
   "execution_count": 19,
   "id": "d8c47cdb",
   "metadata": {},
   "outputs": [
    {
     "name": "stdout",
     "output_type": "stream",
     "text": [
      "{'people/fruits': ['Apple', 'Orange', 'Mango'], 'B': [8, 2, 4], 'C': [3, 7, 6], 'D': [4, 8, 1]}\n"
     ]
    }
   ],
   "source": [
    "dict_z={\"people/fruits\":[\"Apple\",\"Orange\",\"Mango\"],\n",
    "        \"A\":[5,4,3],\n",
    "        \"B\":[8,2,4],\n",
    "        \"C\":[3,7,6],\n",
    "       \"D\":[4,8,1]}\n",
    "\n",
    "del(dict_z[\"A\"])\n",
    "\n",
    "print(dict_z)"
   ]
  },
  {
   "cell_type": "markdown",
   "id": "9627abe0",
   "metadata": {},
   "source": [
    "### 2.2) del(dict_name)\n",
    "deletes the given dictionary from file."
   ]
  },
  {
   "cell_type": "code",
   "execution_count": 20,
   "id": "45b66231",
   "metadata": {},
   "outputs": [
    {
     "ename": "NameError",
     "evalue": "name 'dict_z' is not defined",
     "output_type": "error",
     "traceback": [
      "\u001b[1;31m---------------------------------------------------------------------------\u001b[0m",
      "\u001b[1;31mNameError\u001b[0m                                 Traceback (most recent call last)",
      "Cell \u001b[1;32mIn[20], line 7\u001b[0m\n\u001b[0;32m      1\u001b[0m dict_z\u001b[38;5;241m=\u001b[39m{\u001b[38;5;124m\"\u001b[39m\u001b[38;5;124mpeople/fruits\u001b[39m\u001b[38;5;124m\"\u001b[39m:[\u001b[38;5;124m\"\u001b[39m\u001b[38;5;124mApple\u001b[39m\u001b[38;5;124m\"\u001b[39m,\u001b[38;5;124m\"\u001b[39m\u001b[38;5;124mOrange\u001b[39m\u001b[38;5;124m\"\u001b[39m,\u001b[38;5;124m\"\u001b[39m\u001b[38;5;124mMango\u001b[39m\u001b[38;5;124m\"\u001b[39m],\n\u001b[0;32m      2\u001b[0m         \u001b[38;5;124m\"\u001b[39m\u001b[38;5;124mA\u001b[39m\u001b[38;5;124m\"\u001b[39m:[\u001b[38;5;241m5\u001b[39m,\u001b[38;5;241m4\u001b[39m,\u001b[38;5;241m3\u001b[39m],\n\u001b[0;32m      3\u001b[0m         \u001b[38;5;124m\"\u001b[39m\u001b[38;5;124mB\u001b[39m\u001b[38;5;124m\"\u001b[39m:[\u001b[38;5;241m8\u001b[39m,\u001b[38;5;241m2\u001b[39m,\u001b[38;5;241m4\u001b[39m],\n\u001b[0;32m      4\u001b[0m         \u001b[38;5;124m\"\u001b[39m\u001b[38;5;124mC\u001b[39m\u001b[38;5;124m\"\u001b[39m:[\u001b[38;5;241m3\u001b[39m,\u001b[38;5;241m7\u001b[39m,\u001b[38;5;241m6\u001b[39m],\n\u001b[0;32m      5\u001b[0m        \u001b[38;5;124m\"\u001b[39m\u001b[38;5;124mD\u001b[39m\u001b[38;5;124m\"\u001b[39m:[\u001b[38;5;241m4\u001b[39m,\u001b[38;5;241m8\u001b[39m,\u001b[38;5;241m1\u001b[39m]}\n\u001b[0;32m      6\u001b[0m \u001b[38;5;28;01mdel\u001b[39;00m(dict_z)\n\u001b[1;32m----> 7\u001b[0m \u001b[38;5;28mprint\u001b[39m(\u001b[43mdict_z\u001b[49m)\n",
      "\u001b[1;31mNameError\u001b[0m: name 'dict_z' is not defined"
     ]
    }
   ],
   "source": [
    "dict_z={\"people/fruits\":[\"Apple\",\"Orange\",\"Mango\"],\n",
    "        \"A\":[5,4,3],\n",
    "        \"B\":[8,2,4],\n",
    "        \"C\":[3,7,6],\n",
    "       \"D\":[4,8,1]}\n",
    "\n",
    "del(dict_z)\n",
    "\n",
    "print(dict_z)"
   ]
  },
  {
   "cell_type": "markdown",
   "id": "0089712f",
   "metadata": {},
   "source": [
    "### 3) .copy()\n",
    "Returns a copy of the dictionary.\n",
    "Duplicates the dictionary given."
   ]
  },
  {
   "cell_type": "code",
   "execution_count": 1,
   "id": "01fcf911",
   "metadata": {},
   "outputs": [
    {
     "name": "stdout",
     "output_type": "stream",
     "text": [
      "a carbon copy of dict_x is created which will not change if there is any further changes in the original dict_x:\n",
      "{'people/fruits': ['Apple', 'Orange', 'Mango'], 'A': [5, 4, 3], 'B': [8, 2, 4], 'C': [3, 7, 6], 'D': [4, 8, 1]}\n"
     ]
    }
   ],
   "source": [
    "dict_x={\"people/fruits\":[\"Apple\",\"Orange\",\"Mango\"],\n",
    "        \"A\":[5,4,3],\n",
    "        \"B\":[8,2,4],\n",
    "        \"C\":[3,7,6],\n",
    "       \"D\":[4,8,1]}\n",
    "\n",
    "dict_a=dict_x.copy()\n",
    "\n",
    "print(\"a carbon copy of dict_x is created which will not change if there is any further changes in the original dict_x:\")\n",
    "print(dict_a)"
   ]
  },
  {
   "cell_type": "markdown",
   "id": "0cbf6821",
   "metadata": {},
   "source": [
    "### 4) .keys()\n",
    "Returns a list containing the dictionary's keys"
   ]
  },
  {
   "cell_type": "code",
   "execution_count": 2,
   "id": "631de203",
   "metadata": {},
   "outputs": [
    {
     "name": "stdout",
     "output_type": "stream",
     "text": [
      "list of keys in given dictionary:\n",
      "dict_keys(['people/fruits', 'A', 'B', 'C', 'D'])\n"
     ]
    }
   ],
   "source": [
    "dict_x={\"people/fruits\":[\"Apple\",\"Orange\",\"Mango\"],\n",
    "        \"A\":[5,4,3],\n",
    "        \"B\":[8,2,4],\n",
    "        \"C\":[3,7,6],\n",
    "       \"D\":[4,8,1]}\n",
    "\n",
    "print('list of keys in given dictionary:')\n",
    "print( dict_x.keys())"
   ]
  },
  {
   "cell_type": "code",
   "execution_count": 79,
   "id": "7d452510",
   "metadata": {},
   "outputs": [
    {
     "name": "stdout",
     "output_type": "stream",
     "text": [
      "<class 'dict_keys'>\n",
      "['people/fruits', 'A', 'B', 'C', 'D']\n",
      "B\n"
     ]
    }
   ],
   "source": [
    "#To print one particular key value typecast that to list and use index to call it.\n",
    "\n",
    "print(type(dict_x.keys()))\n",
    "\n",
    "a=list(dict_x.keys())\n",
    "\n",
    "print(a)\n",
    "\n",
    "print(a[2])"
   ]
  },
  {
   "cell_type": "markdown",
   "id": "54ad7b10",
   "metadata": {},
   "source": [
    "### 5) .values()\n",
    "Returns a list of all the values in the dictionary"
   ]
  },
  {
   "cell_type": "code",
   "execution_count": 77,
   "id": "cc0000e1",
   "metadata": {},
   "outputs": [
    {
     "name": "stdout",
     "output_type": "stream",
     "text": [
      "dict_values([['Apple', 'Orange', 'Mango'], [5, 4, 3], [8, 2, 4], [3, 7, 6], [4, 8, 1]])\n"
     ]
    }
   ],
   "source": [
    "dict_x={\"people/fruits\":[\"Apple\",\"Orange\",\"Mango\"],\n",
    "        \"A\":[5,4,3],\n",
    "        \"B\":[8,2,4],\n",
    "        \"C\":[3,7,6],\n",
    "       \"D\":[4,8,1]}\n",
    "\n",
    "print(dict_x.values())"
   ]
  },
  {
   "cell_type": "code",
   "execution_count": 78,
   "id": "342f9ee1",
   "metadata": {},
   "outputs": [
    {
     "name": "stdout",
     "output_type": "stream",
     "text": [
      "list of all keys in list datatype: [['Apple', 'Orange', 'Mango'], [5, 4, 3], [8, 2, 4], [3, 7, 6], [4, 8, 1]]\n",
      "To print second element of third list in the given list a_1: 2\n"
     ]
    }
   ],
   "source": [
    "a_1=list(dict_x.values())\n",
    "\n",
    "print('list of all keys in list datatype:', a_1)\n",
    "\n",
    "print('To print second element of third list in the given list a_1:', a_1[2][1])"
   ]
  },
  {
   "cell_type": "markdown",
   "id": "03eaf448",
   "metadata": {},
   "source": [
    "### 6) .get()\n",
    "Returns the value of the specified key"
   ]
  },
  {
   "cell_type": "code",
   "execution_count": 68,
   "id": "aa28e598",
   "metadata": {
    "scrolled": true
   },
   "outputs": [
    {
     "name": "stdout",
     "output_type": "stream",
     "text": [
      "[5, 4, 3]\n"
     ]
    }
   ],
   "source": [
    "dict_x={\"people/fruits\":[\"Apple\",\"Orange\",\"Mango\"],\n",
    "        \"A\":[5,4,3],\n",
    "        \"B\":[8,2,4],\n",
    "        \"C\":[3,7,6],\n",
    "       \"D\":[4,8,1]}\n",
    "\n",
    "print(dict_x.get(\"A\"))"
   ]
  },
  {
   "cell_type": "markdown",
   "id": "6babe1c1",
   "metadata": {},
   "source": [
    "### 6.1)Alternate for .get()"
   ]
  },
  {
   "cell_type": "code",
   "execution_count": 27,
   "id": "320eace3",
   "metadata": {
    "scrolled": true
   },
   "outputs": [
    {
     "name": "stdout",
     "output_type": "stream",
     "text": [
      "[5, 4, 3]\n"
     ]
    }
   ],
   "source": [
    "dict_x={\"people/fruits\":[\"Apple\",\"Orange\",\"Mango\"],\n",
    "        \"A\":[5,4,3],\n",
    "        \"B\":[8,2,4],\n",
    "        \"C\":[3,7,6],\n",
    "       \"D\":[4,8,1]}\n",
    "\n",
    "print(dict_x[\"A\"])"
   ]
  },
  {
   "cell_type": "markdown",
   "id": "1ef65a92",
   "metadata": {},
   "source": [
    "### 7) .clear()\n",
    ">Removes all the elements from the dictionary"
   ]
  },
  {
   "cell_type": "code",
   "execution_count": 5,
   "id": "b89e8359",
   "metadata": {},
   "outputs": [
    {
     "name": "stdout",
     "output_type": "stream",
     "text": [
      "{}\n"
     ]
    }
   ],
   "source": [
    "dict_x={\"people/fruits\":[\"Apple\",\"Orange\",\"Mango\"],\n",
    "        \"A\":[5,4,3],\n",
    "        \"B\":[8,2,4],\n",
    "        \"C\":[3,7,6],\n",
    "       \"D\":[4,8,1]}\n",
    "\n",
    "dict_x.clear()\n",
    "\n",
    "print(dict_x)"
   ]
  },
  {
   "cell_type": "markdown",
   "id": "274b4d5a",
   "metadata": {},
   "source": [
    "### 8) .items()\n",
    "Returns a list containing a tuple for each key value pair"
   ]
  },
  {
   "cell_type": "code",
   "execution_count": 103,
   "id": "168b3ef7",
   "metadata": {},
   "outputs": [
    {
     "name": "stdout",
     "output_type": "stream",
     "text": [
      "dict_items([('people/fruits', ['Apple', 'Orange', 'Mango']), ('A', [5, 4, 3]), ('B', [8, 2, 4]), ('C', [3, 7, 6]), ('D', [4, 8, 1])])\n"
     ]
    }
   ],
   "source": [
    "dict_x={\"people/fruits\":[\"Apple\",\"Orange\",\"Mango\"],\n",
    "        \"A\":[5,4,3],\n",
    "        \"B\":[8,2,4],\n",
    "        \"C\":[3,7,6],\n",
    "       \"D\":[4,8,1]}\n",
    "\n",
    "print(dict_x.items())\n"
   ]
  },
  {
   "cell_type": "markdown",
   "id": "b6016ea9",
   "metadata": {},
   "source": [
    "### 9) .update()\n",
    "Updates the dictionary with the specified key-value pairs"
   ]
  },
  {
   "cell_type": "code",
   "execution_count": 3,
   "id": "2244dad1",
   "metadata": {},
   "outputs": [
    {
     "name": "stdout",
     "output_type": "stream",
     "text": [
      "updated dict_x is\n",
      "{'people/fruits': ['Apple', 'Orange', 'Mango'], 'A': [3, 5, 7], 'B': 'sss', 'C': [3, 7, 6], 'D': [4, 8, 1]}\n"
     ]
    }
   ],
   "source": [
    "dict_x={\"people/fruits\":[\"Apple\",\"Orange\",\"Mango\"],\n",
    "        \"A\":[5,4,3],\n",
    "        \"B\":[8,2,4],\n",
    "        \"C\":[3,7,6],\n",
    "       \"D\":[4,8,1]}\n",
    "\n",
    "dict_x[\"A\"]=[3,5,7]       #we are directly assigning changed values to the respective key already in given dictionary\n",
    "\n",
    "dict_x[\"B\"]=\"sss\" \n",
    "\n",
    "print('updated dict_x is')\n",
    "\n",
    "print(dict_x)"
   ]
  },
  {
   "cell_type": "code",
   "execution_count": 101,
   "id": "fac9e305",
   "metadata": {},
   "outputs": [
    {
     "name": "stdout",
     "output_type": "stream",
     "text": [
      "updated dict_x is {'people/fruits': ['Apple', 'Orange', 'Mango'], 'A': [5, 4, 3], 'B': [8, 2, 4], 'C': [3, 7, 6], 'D': [4, 8, 1], 'E': '[ztztzt,oioioi]'}\n"
     ]
    }
   ],
   "source": [
    "dict_x={\"people/fruits\":[\"Apple\",\"Orange\",\"Mango\"],\n",
    "        \"A\":[5,4,3],\n",
    "        \"B\":[8,2,4],\n",
    "        \"C\":[3,7,6],\n",
    "       \"D\":[4,8,1]}\n",
    "\n",
    "dict_x[\"E\"]=\"[ztztzt,oioioi]\"  #We can also include a new key:value pair in a given dictionary\n",
    "\n",
    "print('updated dict_x is', dict_x)"
   ]
  },
  {
   "cell_type": "markdown",
   "id": "c0fd3ddb",
   "metadata": {},
   "source": [
    "### 10) .popitem()\n",
    "Removes the last inserted key-value pair"
   ]
  },
  {
   "cell_type": "code",
   "execution_count": 2,
   "id": "da47f9b2",
   "metadata": {},
   "outputs": [
    {
     "name": "stdout",
     "output_type": "stream",
     "text": [
      "{'people/fruits': ['Apple', 'Orange', 'Mango'], 'A': [5, 4, 3], 'B': [8, 2, 4], 'C': [3, 7, 6]}\n"
     ]
    }
   ],
   "source": [
    "dict_x={\"people/fruits\":[\"Apple\",\"Orange\",\"Mango\"],\n",
    "        \"A\":[5,4,3],\n",
    "        \"B\":[8,2,4],\n",
    "        \"C\":[3,7,6],\n",
    "       \"D\":[4,8,1]}\n",
    "\n",
    "dict_x.popitem()\n",
    "\n",
    "print(dict_x)"
   ]
  },
  {
   "cell_type": "markdown",
   "id": "fdeb0d89",
   "metadata": {},
   "source": [
    "### 11) .pop()\n",
    "Removes the element with the specified key"
   ]
  },
  {
   "cell_type": "code",
   "execution_count": 4,
   "id": "f091d264",
   "metadata": {},
   "outputs": [
    {
     "name": "stdout",
     "output_type": "stream",
     "text": [
      "[5, 4, 3]\n",
      "{'people/fruits': ['Apple', 'Orange', 'Mango'], 'B': [8, 2, 4], 'C': [3, 7, 6], 'D': [4, 8, 1]}\n"
     ]
    }
   ],
   "source": [
    "dict_x={\"people/fruits\":[\"Apple\",\"Orange\",\"Mango\"],\n",
    "        \"A\":[5,4,3],\n",
    "        \"B\":[8,2,4],\n",
    "        \"C\":[3,7,6],\n",
    "       \"D\":[4,8,1]}\n",
    "\n",
    "print(dict_x.pop(\"A\"))\n",
    "\n",
    "print(dict_x)"
   ]
  },
  {
   "cell_type": "code",
   "execution_count": null,
   "id": "2656c706",
   "metadata": {},
   "outputs": [],
   "source": []
  }
 ],
 "metadata": {
  "kernelspec": {
   "display_name": "Python 3 (ipykernel)",
   "language": "python",
   "name": "python3"
  },
  "language_info": {
   "codemirror_mode": {
    "name": "ipython",
    "version": 3
   },
   "file_extension": ".py",
   "mimetype": "text/x-python",
   "name": "python",
   "nbconvert_exporter": "python",
   "pygments_lexer": "ipython3",
   "version": "3.10.9"
  }
 },
 "nbformat": 4,
 "nbformat_minor": 5
}
