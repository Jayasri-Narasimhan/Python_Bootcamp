{
 "cells": [
  {
   "cell_type": "markdown",
   "id": "0fe6c376",
   "metadata": {},
   "source": [
    "## DATA STRUCTURES : List \n",
    "   - Lists are ordered sequence of mixed data types.\n",
    "   - Lists are written as comma-seperated elements within square brackets.\n",
    "\n",
    "   - **Properties:** \n",
    "   \n",
    "   - (i) Sequential\n",
    "   - (ii) Mutability\n",
    "   - Values are interchangeable, new values can be added or deleted\n",
    "\n",
    "### Note:\n",
    "Most of the properties of lists are the same as those of tuples, except one major difference: Lists are mutable, which means the elements of a list can be changed. \n",
    "### Methods: (attributes)\n",
    "\n",
    "\n",
    "\n"
   ]
  },
  {
   "cell_type": "markdown",
   "id": "3f6d8e19",
   "metadata": {},
   "source": [
    "#### Example 1"
   ]
  },
  {
   "cell_type": "code",
   "execution_count": 6,
   "id": "172ec880",
   "metadata": {
    "scrolled": true
   },
   "outputs": [
    {
     "name": "stdout",
     "output_type": "stream",
     "text": [
      "['word', 6, 'str', 1, 2, 3, 7.8, True]\n",
      "datatype of list_1: <class 'list'>\n"
     ]
    }
   ],
   "source": [
    "var1=6\n",
    "var2='str'\n",
    "list_1=['word',var1,var2,1,2,3,7.8,True]\n",
    "print(list_1)\n",
    "print('datatype of list_1:', type(list_1))"
   ]
  },
  {
   "cell_type": "markdown",
   "id": "eb704956",
   "metadata": {},
   "source": [
    "#### Example 2"
   ]
  },
  {
   "cell_type": "code",
   "execution_count": 9,
   "id": "4bf6d815",
   "metadata": {},
   "outputs": [
    {
     "name": "stdout",
     "output_type": "stream",
     "text": [
      "['word', 6, 'str', 1, 2, 3, 7.8, True]\n",
      "[2.3, 'jay', 3, 99]\n"
     ]
    }
   ],
   "source": [
    "var1=6\n",
    "var2='str'\n",
    "list_1=['word',var1,var2,1,2,3,7.8,True]\n",
    "list_2=[2.3, 'jay',3,99]\n",
    "print(list_1)\n",
    "print(list_2)"
   ]
  },
  {
   "cell_type": "code",
   "execution_count": 5,
   "id": "a5e0349f",
   "metadata": {},
   "outputs": [
    {
     "name": "stdout",
     "output_type": "stream",
     "text": [
      "length of list_a= 20\n"
     ]
    }
   ],
   "source": [
    "list_a=['hakuna','mataka',1,10,20,30,50,60,'i am','empathy','value','mortal','india',3.0,2.0,4.0,True,False,'Jerusalem','Madagaskar']\n",
    "print('length of list_a=',len(list_a))"
   ]
  },
  {
   "cell_type": "markdown",
   "id": "1e209237",
   "metadata": {},
   "source": [
    "### Nested Lists\n",
    "Contains a list as one of its element."
   ]
  },
  {
   "cell_type": "code",
   "execution_count": null,
   "id": "cd396dc4",
   "metadata": {},
   "outputs": [],
   "source": [
    "list_1=['word',1,2,3,['a','hi',45],7.8,True]"
   ]
  },
  {
   "cell_type": "markdown",
   "id": "573ae510",
   "metadata": {},
   "source": [
    "### Membership in List"
   ]
  },
  {
   "cell_type": "code",
   "execution_count": null,
   "id": "4307653b",
   "metadata": {},
   "outputs": [],
   "source": [
    "list_1=['word',1,2,3,['a','hi',45],7.8,True]\n",
    "print(3 in list_1)\n",
    "print(78 in list_1)"
   ]
  },
  {
   "cell_type": "markdown",
   "id": "5697b549",
   "metadata": {},
   "source": [
    "### List Concatenation"
   ]
  },
  {
   "cell_type": "code",
   "execution_count": 4,
   "id": "fe71c00b",
   "metadata": {},
   "outputs": [
    {
     "name": "stdout",
     "output_type": "stream",
     "text": [
      "['word', 1, 2, 3, 'deer', ['a', 'hi', 45], 7.8, True]\n"
     ]
    }
   ],
   "source": [
    "list_1=['word',1,2,3,['a','hi',45],7.8,True]\n",
    "list_2=list_1[0:4]+['deer']+list_1[4: ]\n",
    "\n",
    "print(list_2)"
   ]
  },
  {
   "cell_type": "markdown",
   "id": "1e104fe4",
   "metadata": {},
   "source": [
    "### 1)Indexing\n",
    "index > negative index >>  listname.index() >>> Range "
   ]
  },
  {
   "cell_type": "markdown",
   "id": "e709d4ea",
   "metadata": {},
   "source": [
    "#### 1.1) index and negative index\n",
    "\n",
    "starts from 0, 1, 2,...... from left to right.\n",
    "\n",
    "-1, -2, -3 from right to left."
   ]
  },
  {
   "cell_type": "code",
   "execution_count": 1,
   "id": "bd172213",
   "metadata": {
    "scrolled": true
   },
   "outputs": [
    {
     "name": "stdout",
     "output_type": "stream",
     "text": [
      "first element= hakuna\n",
      "last element= Madagaskar\n",
      "7th element:  60\n"
     ]
    }
   ],
   "source": [
    "list_a=['hakuna','mataka',1,10,20,30,50,60,'i am','empathy','value','mortal','india',3.0,2.0,4.0,True,False,'Jerusalem','Madagaskar']\n",
    "print('first element=', list_a[0])\n",
    "print('last element=', list_a[-1])\n",
    "print('7th element: ', list_a[7])"
   ]
  },
  {
   "cell_type": "markdown",
   "id": "ce27b3f1",
   "metadata": {},
   "source": [
    "#### 1.2) listname.index() \n",
    "is to know a index of a particular element.\n",
    "\n",
    ".index is to find the index value of a element in given string or integer or float except bool, list, tuple."
   ]
  },
  {
   "cell_type": "code",
   "execution_count": 4,
   "id": "f5d66f8c",
   "metadata": {},
   "outputs": [
    {
     "name": "stdout",
     "output_type": "stream",
     "text": [
      "index of i am and 4.0 in list_a: 8 and 15\n"
     ]
    }
   ],
   "source": [
    "list_a=['hakuna','mataka',1,10,20,30,50,60,'i am','empathy','value','mortal','india',3.0,2.0,4.0,True,False,'Jerusalem','Madagaskar']\n",
    "print('index of i am and 4.0 in list_a:', list_a.index('i am'), 'and', list_a.index(4.0) )"
   ]
  },
  {
   "cell_type": "markdown",
   "id": "4bdca370",
   "metadata": {},
   "source": [
    "#### To find the negative index of an element in a list\n",
    "\n",
    "negative index(element) = positive index(element) - length of the list"
   ]
  },
  {
   "cell_type": "code",
   "execution_count": 5,
   "id": "ad522f8a",
   "metadata": {},
   "outputs": [
    {
     "name": "stdout",
     "output_type": "stream",
     "text": [
      "8\n",
      "Negative index of 88:  -5\n"
     ]
    }
   ],
   "source": [
    "list_7=[2,5,7,88,99,100,9.5,8.99]\n",
    "print(len(list_7))\n",
    "#find the negative index of 88\n",
    "a=list_7.index(88)-len(list_7)\n",
    "print(\"Negative index of 88: \", a)\n"
   ]
  },
  {
   "cell_type": "markdown",
   "id": "e5a2142e",
   "metadata": {},
   "source": [
    "#### 1.3)Slicing or Range of elements using index [ : ] or [start index : end index +1: jump stretch ]"
   ]
  },
  {
   "cell_type": "code",
   "execution_count": 2,
   "id": "c8ca9631",
   "metadata": {},
   "outputs": [
    {
     "name": "stdout",
     "output_type": "stream",
     "text": [
      "first 4 elements: ['hakuna', 'mataka', 1, 10]\n",
      "['i am', 'empathy', 'value', 'mortal', 'india', 3.0, 2.0, 4.0]\n",
      "['value', 'i am', 50, 20]\n",
      "index of 20 in list_a: 4\n",
      "[20, 30]\n",
      "['Jerusalem', 'Madagaskar']\n",
      "[True, False]\n",
      "[50, 60]\n"
     ]
    }
   ],
   "source": [
    "list_a=['hakuna','mataka',1,10,20,30,50,60,'i am','empathy','value','mortal','india',3.0,2.0,4.0,True,False,'Jerusalem','Madagaskar']\n",
    "print('first 4 elements:',list_a[0:4])\n",
    "print(list_a[8:16:1]) \n",
    "print(list_a[10:2:-2]) \n",
    "print('index of 20 in list_a:', list_a.index(20))\n",
    "print(list_a[4:6])\n",
    "print(list_a[18:20])\n",
    "print(list_a[16:18])\n",
    "print(list_a[6:8])"
   ]
  },
  {
   "cell_type": "markdown",
   "id": "51089cff",
   "metadata": {},
   "source": [
    "### 2)  .append()\n",
    "append function inserts (one complete) list given (as list itself) in a particular position.\n",
    ">**Note:** Do not directly append a given list.\n",
    ">Instead use a dummy empty list and then append the list desired.\n"
   ]
  },
  {
   "cell_type": "markdown",
   "id": "68fb30b0",
   "metadata": {},
   "source": [
    "#### Example 1"
   ]
  },
  {
   "cell_type": "code",
   "execution_count": 10,
   "id": "ebabf260",
   "metadata": {
    "scrolled": true
   },
   "outputs": [
    {
     "name": "stdout",
     "output_type": "stream",
     "text": [
      "['1', '2', 3, 4, [True, False, '3.0', '4.0']]\n"
     ]
    }
   ],
   "source": [
    "list_b=['1','2',3,4]\n",
    "list_c=[True,False,'3.0','4.0']\n",
    "list_b.append(list_c)                 #here we append directly\n",
    "print(list_b)"
   ]
  },
  {
   "cell_type": "markdown",
   "id": "cec557eb",
   "metadata": {},
   "source": [
    "#### Example 2"
   ]
  },
  {
   "cell_type": "code",
   "execution_count": 1,
   "id": "dc944830",
   "metadata": {
    "scrolled": true
   },
   "outputs": [
    {
     "name": "stdout",
     "output_type": "stream",
     "text": [
      "[['1', '2', 3, 4]]\n",
      "[['1', '2', 3, 4], [True, False, '3.0', '4.0']]\n"
     ]
    }
   ],
   "source": [
    "list_b=['1','2',3,4]\n",
    "list_c=[True,False,'3.0','4.0']\n",
    "outlist_dummy=[]\n",
    "outlist_dummy.append(list_b)\n",
    "print(outlist_dummy)\n",
    "outlist_dummy.append(list_c)\n",
    "print(outlist_dummy)                 #here we append using a dummy empty list so that the original lists are preserved"
   ]
  },
  {
   "cell_type": "markdown",
   "id": "db9ef6e3",
   "metadata": {},
   "source": [
    "#### Observation from above example 2 :"
   ]
  },
  {
   "cell_type": "code",
   "execution_count": 30,
   "id": "61670547",
   "metadata": {},
   "outputs": [
    {
     "name": "stdout",
     "output_type": "stream",
     "text": [
      "lenth of outlist_dummy after append= 2\n",
      "first element of outlist_dummy after append= ['1', '2', 3, 4]\n",
      "last element of outlist_dummy after append= [True, False, '3.0', '4.0']\n"
     ]
    }
   ],
   "source": [
    "print('lenth of outlist_dummy after append=', len(outlist_dummy))\n",
    "print('first element of outlist_dummy after append=', outlist_dummy[0]) \n",
    "print('last element of outlist_dummy after append=', outlist_dummy[-1]) "
   ]
  },
  {
   "cell_type": "markdown",
   "id": "134f34da",
   "metadata": {},
   "source": [
    "#### Example 3"
   ]
  },
  {
   "cell_type": "code",
   "execution_count": 22,
   "id": "c9836662",
   "metadata": {},
   "outputs": [
    {
     "name": "stdout",
     "output_type": "stream",
     "text": [
      "[0, 4, 8, 9, 2, 440]\n",
      "[0, 4, 8, 9, 2, 440, [678, 890]]\n",
      "<class 'int'>\n",
      "<class 'list'>\n"
     ]
    }
   ],
   "source": [
    "var_3 = [0,4,8,9,2]\n",
    "var_3.append(440)\n",
    "print(var_3)\n",
    "var_3.append([678,890])\n",
    "print(var_3)\n",
    "print(type(var_3[-2]))\n",
    "print(type(var_3[-1]))"
   ]
  },
  {
   "cell_type": "markdown",
   "id": "5a01d0e0",
   "metadata": {},
   "source": [
    "### 3)  .extend()\n",
    "extend function takes in the elements of the given list as its own and add it to the end of itself.\n",
    ">Note: Do not directly extend a given list.\n",
    ">Instead use a dummy empty list and then extend the list desired.\n"
   ]
  },
  {
   "cell_type": "markdown",
   "id": "3fee805d",
   "metadata": {},
   "source": [
    "#### Example 1"
   ]
  },
  {
   "cell_type": "code",
   "execution_count": 24,
   "id": "926a8c21",
   "metadata": {},
   "outputs": [
    {
     "name": "stdout",
     "output_type": "stream",
     "text": [
      "['1', '2', 3, 4, True, False, '3.0', '4.0']\n"
     ]
    }
   ],
   "source": [
    "list_b=['1','2',3,4]\n",
    "list_c=[True,False,'3.0','4.0']\n",
    "list_b.extend(list_c)            #here we added elements from list_c to list_b\n",
    "print(list_b)"
   ]
  },
  {
   "cell_type": "markdown",
   "id": "fbf4151c",
   "metadata": {},
   "source": [
    "#### Example 2"
   ]
  },
  {
   "cell_type": "code",
   "execution_count": 26,
   "id": "078bd5a6",
   "metadata": {
    "scrolled": true
   },
   "outputs": [
    {
     "name": "stdout",
     "output_type": "stream",
     "text": [
      "['1', '2', 3, 4]\n",
      "['1', '2', 3, 4, True, False, '3.0', '4.0']\n"
     ]
    }
   ],
   "source": [
    "list_b=['1','2',3,4]\n",
    "list_c=[True,False,'3.0','4.0']\n",
    "out_list_extend=[]\n",
    "out_list_extend.extend(list_b)\n",
    "print(out_list_extend)\n",
    "out_list_extend.extend(list_c)   \n",
    "print(out_list_extend)          \n",
    "#here we added elements from list_c to list_b using new dummy list in order to preserve original list_b\n"
   ]
  },
  {
   "cell_type": "code",
   "execution_count": null,
   "id": "260a414c",
   "metadata": {},
   "outputs": [],
   "source": [
    "### Note:\n",
    "when a list is passed in the extend method, it takes each element from the list and appends it to the end of the list.\n",
    "However, when the same list is passed to an append method, it considers this list as a single element and appends it to the end of the list."
   ]
  },
  {
   "cell_type": "markdown",
   "id": "53b372c0",
   "metadata": {},
   "source": [
    "### 4) .insert(position index, inserting value)\n",
    "insert function inserts only one given value in a particular position"
   ]
  },
  {
   "cell_type": "markdown",
   "id": "13736969",
   "metadata": {},
   "source": [
    "#### Example "
   ]
  },
  {
   "cell_type": "code",
   "execution_count": 38,
   "id": "b628cae4",
   "metadata": {},
   "outputs": [
    {
     "name": "stdout",
     "output_type": "stream",
     "text": [
      "[0, 4, 8, 9, 1000, 2]\n"
     ]
    }
   ],
   "source": [
    "var_3 = [0,4,8,9,2]\n",
    "var_3.insert(4,1000)\n",
    "print(var_3)"
   ]
  },
  {
   "cell_type": "markdown",
   "id": "1a3ec8e5",
   "metadata": {},
   "source": [
    "### 5) .pop()\n",
    "pop function removes last value from list"
   ]
  },
  {
   "cell_type": "code",
   "execution_count": 43,
   "id": "4beaf33a",
   "metadata": {},
   "outputs": [
    {
     "name": "stdout",
     "output_type": "stream",
     "text": [
      "['1', '2', 3]\n",
      "['1', '2']\n",
      "['1', '2'] is the edited list_b.\n"
     ]
    }
   ],
   "source": [
    "list_b=['1','2',3,4]\n",
    "list_b.pop()\n",
    "print(list_b)\n",
    "list_b.pop()\n",
    "print(list_b)\n",
    "print(list_b, 'is the edited list_b.')"
   ]
  },
  {
   "cell_type": "markdown",
   "id": "ed33f4f4",
   "metadata": {},
   "source": [
    "### 6) .clear()\n",
    "clear function clears the list"
   ]
  },
  {
   "cell_type": "code",
   "execution_count": 4,
   "id": "51e71ac0",
   "metadata": {},
   "outputs": [
    {
     "name": "stdout",
     "output_type": "stream",
     "text": [
      "after using .clear() method list_b becomes empty []\n"
     ]
    }
   ],
   "source": [
    "list_b=['1','2',3,4]\n",
    "list_b.clear()\n",
    "print('after using .clear() method list_b becomes empty' , list_b)"
   ]
  },
  {
   "cell_type": "markdown",
   "id": "b0aeb164",
   "metadata": {},
   "source": [
    "### 7)  del(variable list )\n",
    "del function deletes the variable from file."
   ]
  },
  {
   "cell_type": "code",
   "execution_count": 6,
   "id": "6ab245ad",
   "metadata": {},
   "outputs": [
    {
     "ename": "NameError",
     "evalue": "name 'list_b' is not defined",
     "output_type": "error",
     "traceback": [
      "\u001b[1;31m---------------------------------------------------------------------------\u001b[0m",
      "\u001b[1;31mNameError\u001b[0m                                 Traceback (most recent call last)",
      "Cell \u001b[1;32mIn[6], line 3\u001b[0m\n\u001b[0;32m      1\u001b[0m list_b\u001b[38;5;241m=\u001b[39m[\u001b[38;5;124m'\u001b[39m\u001b[38;5;124m1\u001b[39m\u001b[38;5;124m'\u001b[39m,\u001b[38;5;124m'\u001b[39m\u001b[38;5;124m2\u001b[39m\u001b[38;5;124m'\u001b[39m,\u001b[38;5;241m3\u001b[39m,\u001b[38;5;241m4\u001b[39m]\n\u001b[0;32m      2\u001b[0m \u001b[38;5;28;01mdel\u001b[39;00m(list_b)\n\u001b[1;32m----> 3\u001b[0m \u001b[38;5;28mprint\u001b[39m(\u001b[38;5;124m'\u001b[39m\u001b[38;5;124mlist_b after using .del() method will vanish\u001b[39m\u001b[38;5;124m'\u001b[39m, \u001b[43mlist_b\u001b[49m)\n",
      "\u001b[1;31mNameError\u001b[0m: name 'list_b' is not defined"
     ]
    }
   ],
   "source": [
    "list_b=['1','2',3,4]\n",
    "del(list_b)\n",
    "print('list_b after using .del() method will vanish', list_b)"
   ]
  },
  {
   "cell_type": "code",
   "execution_count": 8,
   "id": "616f5116",
   "metadata": {},
   "outputs": [
    {
     "name": "stdout",
     "output_type": "stream",
     "text": [
      "['1', '2', 4]\n"
     ]
    }
   ],
   "source": [
    "list_b=['1','2',3,4]\n",
    "del(list_b[2])\n",
    "print(list_b)\n"
   ]
  },
  {
   "cell_type": "markdown",
   "id": "16c5ad37",
   "metadata": {},
   "source": [
    "### 8) .remove(element from list)\n",
    "remove function removes the value we expect from list\n"
   ]
  },
  {
   "cell_type": "markdown",
   "id": "123f5697",
   "metadata": {},
   "source": [
    "#### Example:"
   ]
  },
  {
   "cell_type": "code",
   "execution_count": 2,
   "id": "14101181",
   "metadata": {},
   "outputs": [
    {
     "name": "stdout",
     "output_type": "stream",
     "text": [
      "[0, 5, 4, 8, 49, 2, 3.6, 'w']\n",
      "1\n"
     ]
    }
   ],
   "source": [
    "var_4 = [0,4,5,4,8,49,2,3.6,'w']\n",
    "var_4.remove(4)\n",
    "print(var_4)\n",
    "print(var_4.count(4))"
   ]
  },
  {
   "cell_type": "markdown",
   "id": "44bbc2da",
   "metadata": {},
   "source": [
    "### 8) .count(element from list)\n",
    "no. of repetitions of a particular element from the list."
   ]
  },
  {
   "cell_type": "code",
   "execution_count": 54,
   "id": "f06183d0",
   "metadata": {},
   "outputs": [
    {
     "name": "stdout",
     "output_type": "stream",
     "text": [
      "No. of times element 4 appears in the list var_4 2\n"
     ]
    }
   ],
   "source": [
    "var_4 = [0,4,5,4,8,49,2,3.6,'w']\n",
    "print(\"No. of times element 4 appears in the list var_4\", var_4.count(4))\n"
   ]
  },
  {
   "cell_type": "markdown",
   "id": "a0143767",
   "metadata": {},
   "source": [
    "### 9) .reverse()"
   ]
  },
  {
   "cell_type": "code",
   "execution_count": 1,
   "id": "f9fce6c2",
   "metadata": {},
   "outputs": [
    {
     "name": "stdout",
     "output_type": "stream",
     "text": [
      "['w', 3.6, 2, 49, 8, 4, 5, 4, 0]\n"
     ]
    }
   ],
   "source": [
    "var_4 = [0,4,5,4,8,49,2,3.6,'w']\n",
    "var_4.reverse()\n",
    "print(var_4)\n",
    "\n"
   ]
  },
  {
   "cell_type": "code",
   "execution_count": 2,
   "id": "4c420b36",
   "metadata": {},
   "outputs": [
    {
     "data": {
      "text/plain": [
       "['w', 3.6, 2, 49, 8, 4, 5, 4, 0]"
      ]
     },
     "execution_count": 2,
     "metadata": {},
     "output_type": "execute_result"
    }
   ],
   "source": [
    "var_4 = [0,4,5,4,8,49,2,3.6,'w']\n",
    "var_4[::-1]"
   ]
  },
  {
   "cell_type": "code",
   "execution_count": 4,
   "id": "a4270a1e",
   "metadata": {},
   "outputs": [
    {
     "data": {
      "text/plain": [
       "['w', 3.6, 2, 49, 8, 4, 5, 4, 0]"
      ]
     },
     "execution_count": 4,
     "metadata": {},
     "output_type": "execute_result"
    }
   ],
   "source": [
    "var_4 = [0,4,5,4,8,49,2,3.6,'w']\n",
    "var_4[-1::-1]"
   ]
  },
  {
   "cell_type": "code",
   "execution_count": 5,
   "id": "1250636e",
   "metadata": {},
   "outputs": [
    {
     "data": {
      "text/plain": [
       "['w', 3.6, 2, 49]"
      ]
     },
     "execution_count": 5,
     "metadata": {},
     "output_type": "execute_result"
    }
   ],
   "source": [
    "var_4 = [0,4,5,4,8,49,2,3.6,'w']\n",
    "var_4[-1:-5:-1]"
   ]
  },
  {
   "cell_type": "markdown",
   "id": "0d5661d5",
   "metadata": {},
   "source": [
    "### Shallow copying\n",
    "duplicates of a list can be created using slicing. Thus, any changes in the original will not appear on the duplicates."
   ]
  },
  {
   "cell_type": "markdown",
   "id": "ba5ffcce",
   "metadata": {},
   "source": [
    "### Example:"
   ]
  },
  {
   "cell_type": "code",
   "execution_count": 11,
   "id": "b719953d",
   "metadata": {},
   "outputs": [
    {
     "name": "stdout",
     "output_type": "stream",
     "text": [
      "duplicate copy of list_5 is ['apple', 'orange', 'banana', 'mango']\n"
     ]
    }
   ],
   "source": [
    "list_5=['apple','orange','banana','mango']\n",
    "copy_of_list_5=list_5[:]\n",
    "print('duplicate copy of list_5 is',copy_of_list_5 )"
   ]
  },
  {
   "cell_type": "code",
   "execution_count": 14,
   "id": "dde025c6",
   "metadata": {},
   "outputs": [
    {
     "name": "stdout",
     "output_type": "stream",
     "text": [
      "New list_5 is ['apple', 'orange', 'beetroot', 'mango']\n",
      "also duplicate of original list_5 is which stands unchanged:  ['apple', 'orange', 'banana', 'mango']\n"
     ]
    }
   ],
   "source": [
    "list_5[2]='beetroot'\n",
    "print(\"New list_5 is\", list_5)\n",
    "print(\"also duplicate of original list_5 is which stands unchanged: \",copy_of_list_5 )"
   ]
  },
  {
   "cell_type": "code",
   "execution_count": 5,
   "id": "a0010587",
   "metadata": {},
   "outputs": [
    {
     "name": "stdout",
     "output_type": "stream",
     "text": [
      "Give string : aabbccdd#ef#g\n",
      "abcd#fg,abcde\n"
     ]
    }
   ],
   "source": [
    "#Practice problem \n",
    "\n",
    "var=input(\"Give string : \")\n",
    "message1=var[0: :2]\n",
    "message2=var[1: :2]\n",
    "message3=message1.rstrip('#')\n",
    "message4=message2.rstrip('#')\n",
    "print(str(message3) +','+ str(message4))\n"
   ]
  },
  {
   "cell_type": "markdown",
   "id": "21427fdf",
   "metadata": {},
   "source": [
    "### Sorting a list\n",
    "All elements from the list must be of same data type.\n",
    "Arranges the data in ascending order or alphabetical order."
   ]
  },
  {
   "cell_type": "code",
   "execution_count": 4,
   "id": "d63b7997",
   "metadata": {},
   "outputs": [
    {
     "name": "stdout",
     "output_type": "stream",
     "text": [
      "['08orange', 'appleswdfg', 'mango']\n"
     ]
    }
   ],
   "source": [
    "list_3 = ['orange','appleswdfg','mango']\n",
    "list_3.sort()\n",
    "print(list_3)"
   ]
  },
  {
   "cell_type": "code",
   "execution_count": 61,
   "id": "3d2b1d59",
   "metadata": {},
   "outputs": [
    {
     "name": "stdout",
     "output_type": "stream",
     "text": [
      "['orange', 'mango', 'appleswdfg']\n"
     ]
    }
   ],
   "source": [
    "#in order to sort elements in reverse of alphabetical order.\n",
    "list_3=['orange','appleswdfg','mango']\n",
    "list_3.sort(reverse=True)\n",
    "print(list_3)"
   ]
  },
  {
   "cell_type": "code",
   "execution_count": 3,
   "id": "acdd23ed",
   "metadata": {},
   "outputs": [
    {
     "name": "stdout",
     "output_type": "stream",
     "text": [
      "[]\n"
     ]
    }
   ],
   "source": [
    "word = ['1','2','3','4']\n",
    "word[ : ]=[]\n",
    "print(word)"
   ]
  },
  {
   "cell_type": "markdown",
   "id": "b2d7ea58",
   "metadata": {},
   "source": [
    "### Sorted()\n",
    "   - sorted(L) will return a sorted list, and when it comes to strings, it happens based on the character ASCII values. \n",
    "   - First, it compares the ASCII values of the first characters and sorts the strings. \n",
    "   - If the first characters have the same value, then it proceeds \n",
    "to the second characters and compares their ASCII values; if this matches again,\n",
    "then it proceeds to the third characters, and this continues until you have sorted them.\n",
    "In this way, the strings are sorted in a list."
   ]
  },
  {
   "cell_type": "markdown",
   "id": "66d51706",
   "metadata": {},
   "source": [
    "### Example 1"
   ]
  },
  {
   "cell_type": "code",
   "execution_count": 3,
   "id": "0a7e7017",
   "metadata": {},
   "outputs": [
    {
     "name": "stdout",
     "output_type": "stream",
     "text": [
      "['apple', 'apples', 'mango', 'orange']\n"
     ]
    }
   ],
   "source": [
    "list_3=['orange','apples','apple','mango']\n",
    "print(sorted(list_3))"
   ]
  },
  {
   "cell_type": "markdown",
   "id": "74948e70",
   "metadata": {},
   "source": [
    "### Example 2"
   ]
  },
  {
   "cell_type": "code",
   "execution_count": 6,
   "id": "b2ed1f7f",
   "metadata": {},
   "outputs": [
    {
     "name": "stdout",
     "output_type": "stream",
     "text": [
      "['five', 'four', 'one', 'six', 'three', 'two']\n",
      "['one', 'two', 'three', 'four', 'five', 'six']\n"
     ]
    }
   ],
   "source": [
    "L = ['one','two','three', 'four', 'five', 'six']\n",
    "print(sorted(L))\n",
    "print (L)"
   ]
  },
  {
   "cell_type": "markdown",
   "id": "7c5574fe",
   "metadata": {},
   "source": [
    "### Example 3"
   ]
  },
  {
   "cell_type": "code",
   "execution_count": 19,
   "id": "02c3f4a6",
   "metadata": {},
   "outputs": [
    {
     "name": "stdout",
     "output_type": "stream",
     "text": [
      "Pythons syntax is easy to learn & Pythons syntax is very clear\n"
     ]
    }
   ],
   "source": [
    "input_str=['Pythons syntax is easy to learn', 'Pythons syntax is very clear'] \n",
    "A=input_str.pop()\n",
    "B=input_str.pop()\n",
    "string_1 = B +' & '+ A #Type your answer here\n",
    "print(string_1)"
   ]
  },
  {
   "cell_type": "markdown",
   "id": "05970763",
   "metadata": {},
   "source": [
    "##  LAMBDA"
   ]
  },
  {
   "cell_type": "code",
   "execution_count": null,
   "id": "f52bcc72",
   "metadata": {},
   "outputs": [],
   "source": []
  },
  {
   "cell_type": "code",
   "execution_count": null,
   "id": "b470cf26",
   "metadata": {},
   "outputs": [],
   "source": []
  },
  {
   "cell_type": "code",
   "execution_count": null,
   "id": "d020a6f8",
   "metadata": {},
   "outputs": [],
   "source": []
  },
  {
   "cell_type": "code",
   "execution_count": null,
   "id": "87d21e5b",
   "metadata": {},
   "outputs": [],
   "source": []
  }
 ],
 "metadata": {
  "kernelspec": {
   "display_name": "Python 3 (ipykernel)",
   "language": "python",
   "name": "python3"
  },
  "language_info": {
   "codemirror_mode": {
    "name": "ipython",
    "version": 3
   },
   "file_extension": ".py",
   "mimetype": "text/x-python",
   "name": "python",
   "nbconvert_exporter": "python",
   "pygments_lexer": "ipython3",
   "version": "3.10.9"
  }
 },
 "nbformat": 4,
 "nbformat_minor": 5
}
