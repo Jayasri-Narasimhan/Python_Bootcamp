{
 "cells": [
  {
   "cell_type": "markdown",
   "id": "85c7edbd",
   "metadata": {},
   "source": [
    "# INTRODUCTION"
   ]
  },
  {
   "cell_type": "code",
   "execution_count": 5,
   "id": "924c620b",
   "metadata": {},
   "outputs": [
    {
     "name": "stdout",
     "output_type": "stream",
     "text": [
      "Hello Jay\n",
      "Hi , Jayasri Srinivas\n"
     ]
    }
   ],
   "source": [
    "print('Hello Jay')\n",
    "\n",
    "name=\"Jayasri Srinivas\"\n",
    "print('Hi ,',name)"
   ]
  },
  {
   "cell_type": "markdown",
   "id": "7364e576",
   "metadata": {},
   "source": [
    "# Functions\n",
    "print()\n",
    "input()\n",
    "type()\n",
    "len()"
   ]
  },
  {
   "cell_type": "markdown",
   "id": "975a81f2",
   "metadata": {},
   "source": [
    "## I) Variables: \n",
    "Variables are nothing but a memory location to store values assigned to them. Some of the properties of these variables are: \n",
    "\n",
    "1) There is no need to declare the data type of the variable as done in other programming languages, such as C, C++ and JAVA.\n",
    "2) The variable name (or identifier) cannot start with a number, i.e., declaring something like 2name = 7 throws an error.\n",
    "3) Python is case sensitive or in other words, these variables are case sensitive. This means that declaring  name= 2 & Name = 4 would create two different variables.\n"
   ]
  },
  {
   "cell_type": "code",
   "execution_count": 5,
   "id": "46aff22f",
   "metadata": {
    "scrolled": true
   },
   "outputs": [
    {
     "name": "stdout",
     "output_type": "stream",
     "text": [
      "Hello, Jayasri srinivasa varadhan\n",
      "We are glad to see you practising Python,Jayasri Srinivasa Varadhan\n"
     ]
    }
   ],
   "source": [
    "name=\"Jayasri\"\n",
    "print('Hello,',name+' srinivasa varadhan')\n",
    "print('We are glad to see you practising Python,'+''+name+' '+'Srinivasa Varadhan')"
   ]
  },
  {
   "cell_type": "markdown",
   "id": "f848cd90",
   "metadata": {},
   "source": [
    "## II) Data Types:\n",
    "Integer: (int) Set of all integers\n",
    "Float: (float) Set of all real numbers in numerical form\n",
    "string: (str) Words or sentences\n",
    "boolean: (bool) True or False\n",
    "\n",
    "## III) Type Casting:\n",
    "In order to change the data type of a particular variable, you can simply call the following inbuilt methods in python.\n"
   ]
  },
  {
   "cell_type": "code",
   "execution_count": 2,
   "id": "4bd2fe12",
   "metadata": {},
   "outputs": [
    {
     "name": "stdout",
     "output_type": "stream",
     "text": [
      "3\n",
      "3.414\n",
      "3.414\n",
      "True\n",
      "<class 'float'> <class 'int'> <class 'str'> <class 'str'> <class 'bool'>\n"
     ]
    }
   ],
   "source": [
    "x=3.414\n",
    "print(int(x))\n",
    "print(float(x))\n",
    "print(str(x))\n",
    "print(bool(x))"
   ]
  },
  {
   "cell_type": "markdown",
   "id": "50697e9d",
   "metadata": {},
   "source": [
    "  ## Type()                     :function"
   ]
  },
  {
   "cell_type": "code",
   "execution_count": null,
   "id": "cfa677f5",
   "metadata": {},
   "outputs": [],
   "source": [
    "a=1.6\n",
    "b=3\n",
    "c='daddy'\n",
    "d='3.7'\n",
    "e=True\n",
    "print(type(a),type(b),type(c),type(d),type(e))"
   ]
  },
  {
   "cell_type": "markdown",
   "id": "fb06987e",
   "metadata": {},
   "source": [
    "## IV) Arithmetic Operations:\n",
    "Arithmetic operations are an integral part of every programming language.\n",
    "i) BODMAS RULE\n",
    "ii) Bracket of>> Exponential>>Floor division (//) >>Remainder or modulo(%)>> Division \n",
    "Note: operator precedence *, @, /, //, %\n"
   ]
  },
  {
   "cell_type": "code",
   "execution_count": 1,
   "id": "1d8bd97e",
   "metadata": {
    "scrolled": true
   },
   "outputs": [
    {
     "name": "stdout",
     "output_type": "stream",
     "text": [
      "-2\n"
     ]
    }
   ],
   "source": [
    "print(4%(1+ 9)**2 - 60//(7+2))"
   ]
  },
  {
   "cell_type": "markdown",
   "id": "53db6d9c",
   "metadata": {},
   "source": [
    "## V) Print range of numbers in a single line"
   ]
  },
  {
   "cell_type": "code",
   "execution_count": 1,
   "id": "e7df9fb7",
   "metadata": {},
   "outputs": [
    {
     "name": "stdout",
     "output_type": "stream",
     "text": [
      "1 2 3 4 5 6 7 8 9 10\n"
     ]
    }
   ],
   "source": [
    "print(*range(1,11)) \n"
   ]
  },
  {
   "cell_type": "code",
   "execution_count": 8,
   "id": "cf38d075",
   "metadata": {},
   "outputs": [
    {
     "name": "stdout",
     "output_type": "stream",
     "text": [
      "1 2 3 4 5 6 7 8 9 10 "
     ]
    }
   ],
   "source": [
    "for x in range(1,11):\n",
    "    print(x,end=\" \")"
   ]
  }
 ],
 "metadata": {
  "kernelspec": {
   "display_name": "Python 3 (ipykernel)",
   "language": "python",
   "name": "python3"
  },
  "language_info": {
   "codemirror_mode": {
    "name": "ipython",
    "version": 3
   },
   "file_extension": ".py",
   "mimetype": "text/x-python",
   "name": "python",
   "nbconvert_exporter": "python",
   "pygments_lexer": "ipython3",
   "version": "3.10.9"
  }
 },
 "nbformat": 4,
 "nbformat_minor": 5
}
