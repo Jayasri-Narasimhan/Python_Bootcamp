{
 "cells": [
  {
   "cell_type": "markdown",
   "id": "7cc171bd",
   "metadata": {},
   "source": [
    "# STRING OPERATIONS"
   ]
  },
  {
   "cell_type": "markdown",
   "id": "589f95c2",
   "metadata": {},
   "source": [
    "### 1) len()              :function"
   ]
  },
  {
   "cell_type": "code",
   "execution_count": 4,
   "id": "a70a37f2",
   "metadata": {},
   "outputs": [
    {
     "name": "stdout",
     "output_type": "stream",
     "text": [
      "8\n",
      "8\n"
     ]
    }
   ],
   "source": [
    "variable = 'jayasrin'\n",
    "print(len(variable))\n",
    "print(len('jayasrin'))"
   ]
  },
  {
   "cell_type": "markdown",
   "id": "abcb4c97",
   "metadata": {},
   "source": [
    "### 2) indexing [ ], [ : ]\n",
    " \n",
    ">starts from 0, 1, 2,...... from left to right.\n",
    ">-1, -2, -3 from right to left.\n"
   ]
  },
  {
   "cell_type": "code",
   "execution_count": 2,
   "id": "d7759ebe",
   "metadata": {
    "scrolled": true
   },
   "outputs": [
    {
     "name": "stdout",
     "output_type": "stream",
     "text": [
      "d\n",
      "1\n"
     ]
    }
   ],
   "source": [
    "english = 'dictionaries1'\n",
    "print(english[0]) #Accessing the first character\n",
    "print(english[-1])#Accessing the last character"
   ]
  },
  {
   "cell_type": "markdown",
   "id": "9932063b",
   "metadata": {},
   "source": [
    "#### 2.1)Range of elements using index [ : ]"
   ]
  },
  {
   "cell_type": "code",
   "execution_count": 1,
   "id": "72c25c27",
   "metadata": {},
   "outputs": [
    {
     "name": "stdout",
     "output_type": "stream",
     "text": [
      "dictionaries1\n",
      "dic\n",
      "dictionaries\n",
      "dictionarie\n",
      "ictionaries\n"
     ]
    }
   ],
   "source": [
    "english = 'dictionaries1'\n",
    "print(english[0:])#print the whole string\n",
    "print(english[0:3])#print first 3 letters\n",
    "print(english[0:-1])#print the string except last letter\n",
    "print(english[0:-2])\n",
    "print(english[1:-1])"
   ]
  },
  {
   "cell_type": "code",
   "execution_count": 4,
   "id": "19842dfb",
   "metadata": {},
   "outputs": [
    {
     "name": "stdout",
     "output_type": "stream",
     "text": [
      "cors\n",
      "rnicd\n",
      "cor\n"
     ]
    }
   ],
   "source": [
    "english = 'dictionaries1'\n",
    "print(english[2: :3]) #print from 3rd letter till last with 3 jumps\n",
    "print(english[8: :-2])#print from 8th letter till first in reverse with 2 jumps\n",
    "print(english[2:9:3]) #print from 3rd letter till 9th letter with 3 jumps"
   ]
  },
  {
   "cell_type": "markdown",
   "id": "9bdc99e1",
   "metadata": {},
   "source": [
    "#### 2.2) variablename.index\n",
    "We find the index value of a element in given string or integer or float except bool."
   ]
  },
  {
   "cell_type": "code",
   "execution_count": 23,
   "id": "188f30c9",
   "metadata": {
    "scrolled": true
   },
   "outputs": [
    {
     "name": "stdout",
     "output_type": "stream",
     "text": [
      "index of letter c is 2\n"
     ]
    }
   ],
   "source": [
    "english = 'dictionaries1'\n",
    "print('index of letter c is', english.index('c'))"
   ]
  },
  {
   "cell_type": "markdown",
   "id": "2180683c",
   "metadata": {},
   "source": [
    "### 3) operator { } for calling variable"
   ]
  },
  {
   "cell_type": "code",
   "execution_count": 4,
   "id": "c83185c8",
   "metadata": {},
   "outputs": [
    {
     "name": "stdout",
     "output_type": "stream",
     "text": [
      "Jayasri [srinivasa] is a coder\n",
      "Jayasri [srinivasa] is a coder\n"
     ]
    }
   ],
   "source": [
    "first = 'Jayasri'\n",
    "last='srinivasa'\n",
    "Name=first+' ['+last+'] is a coder'\n",
    "msg='{first} [{last}] is a coder'\n",
    "print(Name)\n",
    "print (msg)"
   ]
  },
  {
   "cell_type": "markdown",
   "id": "fec3aca8",
   "metadata": {},
   "source": [
    "### 4) immutability"
   ]
  },
  {
   "cell_type": "code",
   "execution_count": 5,
   "id": "caeef0dc",
   "metadata": {},
   "outputs": [
    {
     "ename": "TypeError",
     "evalue": "'str' object does not support item assignment",
     "output_type": "error",
     "traceback": [
      "\u001b[1;31m---------------------------------------------------------------------------\u001b[0m",
      "\u001b[1;31mTypeError\u001b[0m                                 Traceback (most recent call last)",
      "Cell \u001b[1;32mIn[5], line 3\u001b[0m\n\u001b[0;32m      1\u001b[0m \u001b[38;5;66;03m#trying to change the character at index 1\u001b[39;00m\n\u001b[0;32m      2\u001b[0m word\u001b[38;5;241m=\u001b[39m\u001b[38;5;124m'\u001b[39m\u001b[38;5;124mking\u001b[39m\u001b[38;5;124m'\u001b[39m\n\u001b[1;32m----> 3\u001b[0m word[\u001b[38;5;241m1\u001b[39m]\u001b[38;5;241m=\u001b[39m\u001b[38;5;124m'\u001b[39m\u001b[38;5;124mo\u001b[39m\u001b[38;5;124m'\u001b[39m\n\u001b[0;32m      4\u001b[0m \u001b[38;5;28mprint\u001b[39m(word)\n",
      "\u001b[1;31mTypeError\u001b[0m: 'str' object does not support item assignment"
     ]
    }
   ],
   "source": [
    "#trying to change the character at index 1\n",
    "word='king'\n",
    "word[1]='o'\n",
    "print(word)\n",
    "#cannot happen in python"
   ]
  },
  {
   "cell_type": "code",
   "execution_count": 6,
   "id": "196dcd00",
   "metadata": {},
   "outputs": [
    {
     "name": "stdout",
     "output_type": "stream",
     "text": [
      "original king\n",
      "changed one is kong\n"
     ]
    }
   ],
   "source": [
    "#trying to change the entire string\n",
    "word='king'\n",
    "print('original', word)\n",
    "word='kong'\n",
    "print('changed one is', word)"
   ]
  },
  {
   "cell_type": "code",
   "execution_count": 16,
   "id": "dc3f10d8",
   "metadata": {},
   "outputs": [
    {
     "name": "stdout",
     "output_type": "stream",
     "text": [
      "king kong is an animal.\n",
      "king kong\n",
      "king kong\n"
     ]
    }
   ],
   "source": [
    "#string concatenation\n",
    "first_word='king'\n",
    "sec_word='kong'\n",
    "print(first_word+' '+sec_word+' is an animal.')\n",
    "\n",
    "\n",
    "#string concatenation\n",
    "monkey=first_word+' '+sec_word\n",
    "monkey1=first_word+\" \"+sec_word\n",
    "print(monkey)\n",
    "print(monkey1)"
   ]
  },
  {
   "cell_type": "code",
   "execution_count": 14,
   "id": "dbfe648a",
   "metadata": {},
   "outputs": [
    {
     "name": "stdout",
     "output_type": "stream",
     "text": [
      "we have a king kong at home\n"
     ]
    }
   ],
   "source": [
    "#typecasting using string function\n",
    "word='kong'\n",
    "print('we have a king '+ str(word)+ ' at home')"
   ]
  }
 ],
 "metadata": {
  "kernelspec": {
   "display_name": "Python 3 (ipykernel)",
   "language": "python",
   "name": "python3"
  },
  "language_info": {
   "codemirror_mode": {
    "name": "ipython",
    "version": 3
   },
   "file_extension": ".py",
   "mimetype": "text/x-python",
   "name": "python",
   "nbconvert_exporter": "python",
   "pygments_lexer": "ipython3",
   "version": "3.10.9"
  }
 },
 "nbformat": 4,
 "nbformat_minor": 5
}
