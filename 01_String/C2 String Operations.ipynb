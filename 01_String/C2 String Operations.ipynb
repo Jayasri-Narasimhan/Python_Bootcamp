{
 "cells": [
  {
   "cell_type": "markdown",
   "id": "7cc171bd",
   "metadata": {},
   "source": [
    "## STRING OPERATIONS"
   ]
  },
  {
   "cell_type": "markdown",
   "id": "589f95c2",
   "metadata": {},
   "source": [
    "### 1) len()              :function"
   ]
  },
  {
   "cell_type": "code",
   "execution_count": 2,
   "id": "a70a37f2",
   "metadata": {},
   "outputs": [
    {
     "name": "stdout",
     "output_type": "stream",
     "text": [
      "8\n",
      "Length of the word jayasrin is 8\n"
     ]
    }
   ],
   "source": [
    "variable = 'jayasrin'\n",
    "\n",
    "print(len(variable))\n",
    "\n",
    "print(\"Length of the word jayasrin is\",len('jayasrin'))"
   ]
  },
  {
   "cell_type": "markdown",
   "id": "abcb4c97",
   "metadata": {},
   "source": [
    "### 2) indexing [ ], [ : ]\n",
    " \n",
    "   - starts from 0, 1, 2,...... from left to right.\n",
    "   \n",
    "   - -1, -2, -3 from right to left.\n"
   ]
  },
  {
   "cell_type": "code",
   "execution_count": 2,
   "id": "d7759ebe",
   "metadata": {
    "scrolled": true
   },
   "outputs": [
    {
     "name": "stdout",
     "output_type": "stream",
     "text": [
      "d\n",
      "1\n"
     ]
    }
   ],
   "source": [
    "english = 'dictionaries1'\n",
    "\n",
    "print(english[0]) #Accessing the first character\n",
    "\n",
    "print(english[-1])#Accessing the last character"
   ]
  },
  {
   "cell_type": "markdown",
   "id": "9932063b",
   "metadata": {},
   "source": [
    "#### 2.1)Range of elements using index [ : ] \n",
    "\n",
    "#### Or\n",
    "\n",
    "#### Slicing Operator \n",
    "   -**`variable_name[start_index : end_index +1 : jump ]`**"
   ]
  },
  {
   "cell_type": "code",
   "execution_count": 3,
   "id": "72c25c27",
   "metadata": {},
   "outputs": [
    {
     "name": "stdout",
     "output_type": "stream",
     "text": [
      "dictionaries1\n",
      "dic\n",
      "dictionaries\n",
      "dictionarie\n",
      "ictionaries\n"
     ]
    }
   ],
   "source": [
    "english = 'dictionaries1'\n",
    "\n",
    "print(english[0:])#print the whole string\n",
    "\n",
    "print(english[0:3])#print first 3 letters\n",
    "\n",
    "print(english[0:-1])#print the string except last letter\n",
    "\n",
    "print(english[0:-2])\n",
    "\n",
    "print(english[1:-1])"
   ]
  },
  {
   "cell_type": "code",
   "execution_count": 4,
   "id": "19842dfb",
   "metadata": {},
   "outputs": [
    {
     "name": "stdout",
     "output_type": "stream",
     "text": [
      "cors\n",
      "rnicd\n",
      "cor\n"
     ]
    }
   ],
   "source": [
    "english = 'dictionaries1'\n",
    "\n",
    "print(english[2: :3]) #print from 3rd letter till last with 3 jumps\n",
    "\n",
    "print(english[8: :-2])#print from 8th letter till first in reverse with 2 jumps\n",
    "\n",
    "print(english[2:9:3]) #print from 3rd letter till 9th letter with 3 jumps"
   ]
  },
  {
   "cell_type": "markdown",
   "id": "9bdc99e1",
   "metadata": {},
   "source": [
    "#### 2.2) variablename . index(element)\n",
    "   - We find the index value of a element in given string or integer or float except bool."
   ]
  },
  {
   "cell_type": "code",
   "execution_count": 23,
   "id": "188f30c9",
   "metadata": {
    "scrolled": true
   },
   "outputs": [
    {
     "name": "stdout",
     "output_type": "stream",
     "text": [
      "index of letter c is 2\n"
     ]
    }
   ],
   "source": [
    "english = 'dictionaries1'\n",
    "\n",
    "print('index of letter c is', english.index('c'))"
   ]
  },
  {
   "cell_type": "markdown",
   "id": "2180683c",
   "metadata": {},
   "source": [
    "### 3)Format - Strings\n",
    "\n",
    "    As we learned in the Python Variables chapter, we cannot combine strings and numbers like this:\n",
    "\n",
    "    age = 36\n",
    "   \n",
    "    txt = \"My name is John, I am \" + age"
   ]
  },
  {
   "cell_type": "code",
   "execution_count": 14,
   "id": "c83185c8",
   "metadata": {
    "scrolled": true
   },
   "outputs": [
    {
     "name": "stdout",
     "output_type": "stream",
     "text": [
      "I want 3 pieces of item 567 for 49.95 dollars.\n"
     ]
    }
   ],
   "source": [
    "quantity = 3\n",
    "itemno = 567\n",
    "price = 49.95\n",
    "\n",
    "myorder = \"I want {} pieces of item {} for {} dollars.\"\n",
    "print(myorder.format(quantity, itemno, price))"
   ]
  },
  {
   "cell_type": "markdown",
   "id": "2531bfef",
   "metadata": {},
   "source": [
    "#### use index numbers {0} to be sure the arguments are placed in the correct placeholders:"
   ]
  },
  {
   "cell_type": "code",
   "execution_count": 13,
   "id": "f94d9d57",
   "metadata": {},
   "outputs": [
    {
     "name": "stdout",
     "output_type": "stream",
     "text": [
      "I want 3 pieces of item 567 for 49.95 dollars.\n"
     ]
    }
   ],
   "source": [
    "myorder = \"I want {1} pieces of item {2} for {0} dollars.\"\n",
    "\n",
    "print(myorder.format(price, quantity, itemno))"
   ]
  },
  {
   "cell_type": "markdown",
   "id": "fec3aca8",
   "metadata": {},
   "source": [
    "### 4) immutability"
   ]
  },
  {
   "cell_type": "code",
   "execution_count": 5,
   "id": "caeef0dc",
   "metadata": {},
   "outputs": [
    {
     "ename": "TypeError",
     "evalue": "'str' object does not support item assignment",
     "output_type": "error",
     "traceback": [
      "\u001b[1;31m---------------------------------------------------------------------------\u001b[0m",
      "\u001b[1;31mTypeError\u001b[0m                                 Traceback (most recent call last)",
      "Cell \u001b[1;32mIn[5], line 4\u001b[0m\n\u001b[0;32m      1\u001b[0m \u001b[38;5;66;03m#trying to change the character at index 1\u001b[39;00m\n\u001b[0;32m      3\u001b[0m word\u001b[38;5;241m=\u001b[39m\u001b[38;5;124m'\u001b[39m\u001b[38;5;124mking\u001b[39m\u001b[38;5;124m'\u001b[39m\n\u001b[1;32m----> 4\u001b[0m word[\u001b[38;5;241m1\u001b[39m]\u001b[38;5;241m=\u001b[39m\u001b[38;5;124m'\u001b[39m\u001b[38;5;124mo\u001b[39m\u001b[38;5;124m'\u001b[39m\n\u001b[0;32m      6\u001b[0m \u001b[38;5;28mprint\u001b[39m(word)\n",
      "\u001b[1;31mTypeError\u001b[0m: 'str' object does not support item assignment"
     ]
    }
   ],
   "source": [
    "#trying to change the character at index 1\n",
    "\n",
    "word = 'king'\n",
    "word[1] = 'o'\n",
    "\n",
    "print(word)\n",
    "#cannot happen in python"
   ]
  },
  {
   "cell_type": "code",
   "execution_count": 6,
   "id": "196dcd00",
   "metadata": {},
   "outputs": [
    {
     "name": "stdout",
     "output_type": "stream",
     "text": [
      "original king\n",
      "changed one is kong\n"
     ]
    }
   ],
   "source": [
    "#trying to change the entire string\n",
    "word = 'king'\n",
    "print('original', word)\n",
    "\n",
    "word = 'kong'\n",
    "print('changed one is', word)"
   ]
  },
  {
   "cell_type": "code",
   "execution_count": 16,
   "id": "dc3f10d8",
   "metadata": {},
   "outputs": [
    {
     "name": "stdout",
     "output_type": "stream",
     "text": [
      "king kong is an animal.\n",
      "king kong\n",
      "king kong\n"
     ]
    }
   ],
   "source": [
    "#string concatenation\n",
    "first_word = 'king'\n",
    "sec_word = 'kong'\n",
    "\n",
    "print(first_word +' '+ sec_word + ' is an animal.')\n",
    "\n",
    "\n",
    "#string concatenation\n",
    "monkey = first_word+' '+sec_word\n",
    "monkey1 = first_word+\" \"+sec_word\n",
    "\n",
    "print(monkey)\n",
    "print(monkey1)"
   ]
  },
  {
   "cell_type": "code",
   "execution_count": 6,
   "id": "dbfe648a",
   "metadata": {},
   "outputs": [
    {
     "name": "stdout",
     "output_type": "stream",
     "text": [
      "we have a king kong at home\n"
     ]
    }
   ],
   "source": [
    "#typecasting using string function\n",
    "word = 'kong'\n",
    "\n",
    "print('we have a king '+ str(word)+ ' at home')"
   ]
  },
  {
   "cell_type": "markdown",
   "id": "ce76a096",
   "metadata": {},
   "source": [
    "### 5) Case Swap in Strings"
   ]
  },
  {
   "cell_type": "code",
   "execution_count": 23,
   "id": "08167949",
   "metadata": {},
   "outputs": [
    {
     "name": "stdout",
     "output_type": "stream",
     "text": [
      "iNDIA\n"
     ]
    }
   ],
   "source": [
    "#Swapping lower to uppercase and upper to lowercase\n",
    "var = str(\"India\")\n",
    "\n",
    "new_string = var.swapcase()\n",
    "\n",
    "print(new_string)"
   ]
  },
  {
   "cell_type": "code",
   "execution_count": 21,
   "id": "59cd2250",
   "metadata": {},
   "outputs": [
    {
     "name": "stdout",
     "output_type": "stream",
     "text": [
      "Type something in lowercase.fgf\n",
      "FGF\n"
     ]
    }
   ],
   "source": [
    "#Changing lowercase to uppercase\n",
    "string_input = str(input(\"Type something in lowercase.\"))\n",
    "\n",
    "new_string = string_input.upper()\n",
    "\n",
    "print(new_string)\n"
   ]
  },
  {
   "cell_type": "code",
   "execution_count": 27,
   "id": "c4a865fd",
   "metadata": {},
   "outputs": [
    {
     "ename": "KeyboardInterrupt",
     "evalue": "Interrupted by user",
     "output_type": "error",
     "traceback": [
      "\u001b[1;31m---------------------------------------------------------------------------\u001b[0m",
      "\u001b[1;31mKeyboardInterrupt\u001b[0m                         Traceback (most recent call last)",
      "Cell \u001b[1;32mIn[27], line 2\u001b[0m\n\u001b[0;32m      1\u001b[0m \u001b[38;5;66;03m#Changing uppercase to lowercase\u001b[39;00m\n\u001b[1;32m----> 2\u001b[0m string_input\u001b[38;5;241m=\u001b[39m\u001b[38;5;28mstr\u001b[39m(\u001b[38;5;28;43minput\u001b[39;49m\u001b[43m(\u001b[49m\u001b[38;5;124;43m\"\u001b[39;49m\u001b[38;5;124;43mType something in uppercase: \u001b[39;49m\u001b[38;5;124;43m\"\u001b[39;49m\u001b[43m)\u001b[49m)\n\u001b[0;32m      4\u001b[0m new_string \u001b[38;5;241m=\u001b[39m string_input\u001b[38;5;241m.\u001b[39mlower()\n\u001b[0;32m      6\u001b[0m \u001b[38;5;28mprint\u001b[39m (new_string)\n",
      "File \u001b[1;32mC:\\ProgramData\\anaconda3\\lib\\site-packages\\ipykernel\\kernelbase.py:1175\u001b[0m, in \u001b[0;36mKernel.raw_input\u001b[1;34m(self, prompt)\u001b[0m\n\u001b[0;32m   1171\u001b[0m \u001b[38;5;28;01mif\u001b[39;00m \u001b[38;5;129;01mnot\u001b[39;00m \u001b[38;5;28mself\u001b[39m\u001b[38;5;241m.\u001b[39m_allow_stdin:\n\u001b[0;32m   1172\u001b[0m     \u001b[38;5;28;01mraise\u001b[39;00m StdinNotImplementedError(\n\u001b[0;32m   1173\u001b[0m         \u001b[38;5;124m\"\u001b[39m\u001b[38;5;124mraw_input was called, but this frontend does not support input requests.\u001b[39m\u001b[38;5;124m\"\u001b[39m\n\u001b[0;32m   1174\u001b[0m     )\n\u001b[1;32m-> 1175\u001b[0m \u001b[38;5;28;01mreturn\u001b[39;00m \u001b[38;5;28;43mself\u001b[39;49m\u001b[38;5;241;43m.\u001b[39;49m\u001b[43m_input_request\u001b[49m\u001b[43m(\u001b[49m\n\u001b[0;32m   1176\u001b[0m \u001b[43m    \u001b[49m\u001b[38;5;28;43mstr\u001b[39;49m\u001b[43m(\u001b[49m\u001b[43mprompt\u001b[49m\u001b[43m)\u001b[49m\u001b[43m,\u001b[49m\n\u001b[0;32m   1177\u001b[0m \u001b[43m    \u001b[49m\u001b[38;5;28;43mself\u001b[39;49m\u001b[38;5;241;43m.\u001b[39;49m\u001b[43m_parent_ident\u001b[49m\u001b[43m[\u001b[49m\u001b[38;5;124;43m\"\u001b[39;49m\u001b[38;5;124;43mshell\u001b[39;49m\u001b[38;5;124;43m\"\u001b[39;49m\u001b[43m]\u001b[49m\u001b[43m,\u001b[49m\n\u001b[0;32m   1178\u001b[0m \u001b[43m    \u001b[49m\u001b[38;5;28;43mself\u001b[39;49m\u001b[38;5;241;43m.\u001b[39;49m\u001b[43mget_parent\u001b[49m\u001b[43m(\u001b[49m\u001b[38;5;124;43m\"\u001b[39;49m\u001b[38;5;124;43mshell\u001b[39;49m\u001b[38;5;124;43m\"\u001b[39;49m\u001b[43m)\u001b[49m\u001b[43m,\u001b[49m\n\u001b[0;32m   1179\u001b[0m \u001b[43m    \u001b[49m\u001b[43mpassword\u001b[49m\u001b[38;5;241;43m=\u001b[39;49m\u001b[38;5;28;43;01mFalse\u001b[39;49;00m\u001b[43m,\u001b[49m\n\u001b[0;32m   1180\u001b[0m \u001b[43m\u001b[49m\u001b[43m)\u001b[49m\n",
      "File \u001b[1;32mC:\\ProgramData\\anaconda3\\lib\\site-packages\\ipykernel\\kernelbase.py:1217\u001b[0m, in \u001b[0;36mKernel._input_request\u001b[1;34m(self, prompt, ident, parent, password)\u001b[0m\n\u001b[0;32m   1214\u001b[0m             \u001b[38;5;28;01mbreak\u001b[39;00m\n\u001b[0;32m   1215\u001b[0m \u001b[38;5;28;01mexcept\u001b[39;00m \u001b[38;5;167;01mKeyboardInterrupt\u001b[39;00m:\n\u001b[0;32m   1216\u001b[0m     \u001b[38;5;66;03m# re-raise KeyboardInterrupt, to truncate traceback\u001b[39;00m\n\u001b[1;32m-> 1217\u001b[0m     \u001b[38;5;28;01mraise\u001b[39;00m \u001b[38;5;167;01mKeyboardInterrupt\u001b[39;00m(\u001b[38;5;124m\"\u001b[39m\u001b[38;5;124mInterrupted by user\u001b[39m\u001b[38;5;124m\"\u001b[39m) \u001b[38;5;28;01mfrom\u001b[39;00m \u001b[38;5;28mNone\u001b[39m\n\u001b[0;32m   1218\u001b[0m \u001b[38;5;28;01mexcept\u001b[39;00m \u001b[38;5;167;01mException\u001b[39;00m:\n\u001b[0;32m   1219\u001b[0m     \u001b[38;5;28mself\u001b[39m\u001b[38;5;241m.\u001b[39mlog\u001b[38;5;241m.\u001b[39mwarning(\u001b[38;5;124m\"\u001b[39m\u001b[38;5;124mInvalid Message:\u001b[39m\u001b[38;5;124m\"\u001b[39m, exc_info\u001b[38;5;241m=\u001b[39m\u001b[38;5;28;01mTrue\u001b[39;00m)\n",
      "\u001b[1;31mKeyboardInterrupt\u001b[0m: Interrupted by user"
     ]
    }
   ],
   "source": [
    "#Changing uppercase to lowercase\n",
    "string_input = str(input(\"Type something in uppercase: \"))\n",
    "\n",
    "new_string = string_input.lower()\n",
    "\n",
    "print(new_string)\n"
   ]
  },
  {
   "cell_type": "code",
   "execution_count": 26,
   "id": "faef3bb4",
   "metadata": {},
   "outputs": [
    {
     "name": "stdout",
     "output_type": "stream",
     "text": [
      "Harry Potter And The Socerer'S Stone\n"
     ]
    }
   ],
   "source": [
    "#Capitalise each word in a string\n",
    "\n",
    "string_01 = \"harry potter and the socerer's stone\"\n",
    "\n",
    "new_strng = string_01.title()\n",
    "\n",
    "print(new_strng)"
   ]
  },
  {
   "cell_type": "markdown",
   "id": "8d750ea0",
   "metadata": {},
   "source": [
    "### 6) Multiline String"
   ]
  },
  {
   "cell_type": "code",
   "execution_count": 31,
   "id": "1a575709",
   "metadata": {},
   "outputs": [
    {
     "name": "stdout",
     "output_type": "stream",
     "text": [
      "The woods are lovely, dark and deep,   \n",
      "But I have promises to keep,   \n",
      "And miles to go before I sleep,   \n",
      "And miles to go before I sleep.\n"
     ]
    }
   ],
   "source": [
    "a = \"\"\"The woods are lovely, dark and deep,   \n",
    "But I have promises to keep,   \n",
    "And miles to go before I sleep,   \n",
    "And miles to go before I sleep.\"\"\"\n",
    "print(a)"
   ]
  },
  {
   "cell_type": "markdown",
   "id": "7af7fe57",
   "metadata": {},
   "source": [
    "### 7) Check String\n",
    "\n",
    "   - To check if a certain phrase or character is present in a string, we can use the keyword in"
   ]
  },
  {
   "cell_type": "code",
   "execution_count": 32,
   "id": "efdd3d80",
   "metadata": {},
   "outputs": [
    {
     "name": "stdout",
     "output_type": "stream",
     "text": [
      "True\n"
     ]
    }
   ],
   "source": [
    "#To check if \"potter\" is present\n",
    "string_01 = \"harry potter and the socerer's stone\"\n",
    "\n",
    "print(\"potter\" in string_01)"
   ]
  },
  {
   "cell_type": "markdown",
   "id": "a18fbfcc",
   "metadata": {},
   "source": [
    "#### Using an \"if\" statement to return a data of our desire"
   ]
  },
  {
   "cell_type": "code",
   "execution_count": 36,
   "id": "fe12b502",
   "metadata": {},
   "outputs": [
    {
     "name": "stdout",
     "output_type": "stream",
     "text": [
      "Yes, 'socerer' is present.\n"
     ]
    }
   ],
   "source": [
    "string_01 = \"harry potter and the socerer's stone!\"\n",
    "if \"socerer\" in string_01:\n",
    "    print(\"Yes, 'socerer' is present.\")"
   ]
  },
  {
   "cell_type": "markdown",
   "id": "7ffdbe3f",
   "metadata": {},
   "source": [
    "### 8) Check if NOT\n",
    "   - To check if a certain phrase or character is **Not** present in a string, we can use the keyword **`not in`**."
   ]
  },
  {
   "cell_type": "code",
   "execution_count": 37,
   "id": "44e3dd56",
   "metadata": {},
   "outputs": [
    {
     "name": "stdout",
     "output_type": "stream",
     "text": [
      "True\n"
     ]
    }
   ],
   "source": [
    "#Check if \"Dog\" is not present in string\n",
    "\n",
    "string_01 = \"harry potter and the socerer's stone!\"\n",
    "print(\"Dog\" not in string_01)"
   ]
  },
  {
   "cell_type": "code",
   "execution_count": null,
   "id": "faef7874",
   "metadata": {},
   "outputs": [],
   "source": [
    "#### Using an \"if\" statement to return a data of our desire"
   ]
  },
  {
   "cell_type": "code",
   "execution_count": 42,
   "id": "502bcc67",
   "metadata": {},
   "outputs": [
    {
     "name": "stdout",
     "output_type": "stream",
     "text": [
      "No, 'Dog' is not present.\n"
     ]
    }
   ],
   "source": [
    "string_01 = \"harry potter and the socerer's stone!\"\n",
    "\n",
    "if \"Dog\" not in string_01:\n",
    "    print(\"No, 'Dog' is not present.\")"
   ]
  },
  {
   "cell_type": "markdown",
   "id": "b7fa6ff6",
   "metadata": {},
   "source": [
    "### 9) Remove Whitespace using \n",
    "\n",
    "### string_name .strip()\n",
    "\n",
    "   - Whitespace is the space before and/or after the actual text, and very often you want to remove this space."
   ]
  },
  {
   "cell_type": "markdown",
   "id": "e6c9c7b9",
   "metadata": {},
   "source": [
    "   - The **strip()** method removes any whitespace from the beginning or the end:"
   ]
  },
  {
   "cell_type": "code",
   "execution_count": 4,
   "id": "094de4d1",
   "metadata": {
    "scrolled": true
   },
   "outputs": [
    {
     "name": "stdout",
     "output_type": "stream",
     "text": [
      "Hello, World!\n"
     ]
    }
   ],
   "source": [
    "a = \"  Hello, World!  \"\n",
    "new_str = a.strip()\n",
    "\n",
    "print(new_str) # returns \"Hello, World!\""
   ]
  },
  {
   "cell_type": "markdown",
   "id": "29b7141b",
   "metadata": {},
   "source": [
    "### 10) Replace String\n",
    "\n",
    "#### string_name .replace( \"a\",\"b\")\n",
    "\n",
    "   - a=string to be replaced\n",
    "   - b=new string that replaces"
   ]
  },
  {
   "cell_type": "code",
   "execution_count": 45,
   "id": "0cf90348",
   "metadata": {
    "scrolled": true
   },
   "outputs": [
    {
     "name": "stdout",
     "output_type": "stream",
     "text": [
      "Cello, World!\n"
     ]
    }
   ],
   "source": [
    "var = \"Hello, World!\"\n",
    "\n",
    "print(var.replace(\"H\", \"C\"))"
   ]
  },
  {
   "cell_type": "markdown",
   "id": "c8f970f6",
   "metadata": {},
   "source": [
    "### 11) Split String\n",
    "\n",
    "   The **split()** method returns a **list** where the text between the specified separator becomes the **list items**."
   ]
  },
  {
   "cell_type": "markdown",
   "id": "9bade268",
   "metadata": {},
   "source": [
    "   - The **split()** method splits the string into substrings if it finds instances of the separator."
   ]
  },
  {
   "cell_type": "code",
   "execution_count": 1,
   "id": "ee4313f4",
   "metadata": {},
   "outputs": [
    {
     "name": "stdout",
     "output_type": "stream",
     "text": [
      "['Hello', ' World!']\n"
     ]
    }
   ],
   "source": [
    "var = \"Hello, World!\"\n",
    "\n",
    "new_list = var.split(\",\")"
   ]
  },
  {
   "cell_type": "markdown",
   "id": "7616c3af",
   "metadata": {},
   "source": [
    "### 12) Escape Character\n",
    "   - To insert characters that are illegal in a string, use an escape character.\n",
    "\n",
    "   - An escape character is a backslash \\ followed by the character you want to insert."
   ]
  },
  {
   "cell_type": "code",
   "execution_count": 16,
   "id": "fbee8c65",
   "metadata": {},
   "outputs": [
    {
     "name": "stdout",
     "output_type": "stream",
     "text": [
      " The \"Lord\" of the Rings\n"
     ]
    }
   ],
   "source": [
    "var = \" The \\\"Lord\\\" of the Rings\"\n",
    "print(var)"
   ]
  },
  {
   "cell_type": "markdown",
   "id": "f26dcdc3",
   "metadata": {},
   "source": [
    "   **Other escape characters used in Python:**"
   ]
  },
  {
   "cell_type": "code",
   "execution_count": 36,
   "id": "9a0d6b43",
   "metadata": {
    "scrolled": true
   },
   "outputs": [
    {
     "name": "stdout",
     "output_type": "stream",
     "text": [
      "   Code           Result\n",
      "0    \\'     Single Quote\n",
      "1   \\\\         Backslash\n",
      "2    \\n         New Line\n",
      "3    \\r  Carriage return\n",
      "4    \\t              Tab\n",
      "5    \\b        Backspace\n"
     ]
    }
   ],
   "source": [
    "import pandas as pd\n",
    "Dict_Esc={\"Code\":[\" \\\\'\",\" \\\\\\ \",\" \\\\n\",\" \\\\r\",\" \\\\t\",\" \\\\b\"],\"Result\":[\"Single Quote\",\"Backslash\",\"New Line\",\"Carriage return\",\"Tab\",\"Backspace\"]}\n",
    "\n",
    "Table=pd.DataFrame(Dict_Esc)\n",
    "\n",
    "print(Table)"
   ]
  },
  {
   "cell_type": "code",
   "execution_count": null,
   "id": "5ede970f",
   "metadata": {},
   "outputs": [],
   "source": []
  }
 ],
 "metadata": {
  "kernelspec": {
   "display_name": "Python 3 (ipykernel)",
   "language": "python",
   "name": "python3"
  },
  "language_info": {
   "codemirror_mode": {
    "name": "ipython",
    "version": 3
   },
   "file_extension": ".py",
   "mimetype": "text/x-python",
   "name": "python",
   "nbconvert_exporter": "python",
   "pygments_lexer": "ipython3",
   "version": "3.10.9"
  }
 },
 "nbformat": 4,
 "nbformat_minor": 5
}
